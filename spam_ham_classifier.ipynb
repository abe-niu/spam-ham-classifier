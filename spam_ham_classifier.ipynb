{
  "cells": [
    {
      "cell_type": "code",
      "execution_count": null,
      "metadata": {
        "deletable": false,
        "editable": false,
        "id": "0pdsfjPHD7rz"
      },
      "outputs": [],
      "source": [
        "# Initialize Otter\n",
        "import otter\n",
        "grader = otter.Notebook()"
      ]
    },
    {
      "cell_type": "markdown",
      "metadata": {
        "id": "LK5d3oEkD7r0"
      },
      "source": [
        "## Spam/Ham Classification\n",
        "## Feature Engineering, Logistic Regression, Cross Validation\n"
      ]
    },
    {
      "cell_type": "markdown",
      "metadata": {
        "nbgrader": {
          "grade": false,
          "grade_id": "proj2",
          "locked": true,
          "schema_version": 2,
          "solution": false
        },
        "id": "1I70olOeD7r1"
      },
      "source": [
        "\n",
        "In this project, I create a classifier that can distinguish spam (junk or commercial or bulk) emails from ham (non-spam) emails.\n",
        "\n",
        "This project highlights the following skills:\n",
        "\n",
        "- Feature engineering with text data\n",
        "- Using sklearn libraries to process data and fit models\n",
        "- Validating the performance of our model and minimizing overfitting\n",
        "- Generating and analyzing precision-recall curves\n"
      ]
    },
    {
      "cell_type": "markdown",
      "metadata": {
        "nbgrader": {
          "grade": false,
          "grade_id": "p1",
          "locked": true,
          "schema_version": 2,
          "solution": false
        },
        "id": "HkilAJ7JD7r8"
      },
      "source": [
        "# Part I - Initial Analysis"
      ]
    },
    {
      "cell_type": "code",
      "execution_count": null,
      "metadata": {
        "ExecuteTime": {
          "end_time": "2019-04-03T20:17:41.341673Z",
          "start_time": "2019-04-03T20:17:41.330307Z"
        },
        "nbgrader": {
          "grade": false,
          "grade_id": "imports",
          "locked": true,
          "schema_version": 2,
          "solution": false
        },
        "id": "WzKUJxBJD7r8"
      },
      "outputs": [],
      "source": [
        "import numpy as np\n",
        "import pandas as pd\n",
        "\n",
        "import matplotlib.pyplot as plt\n",
        "%matplotlib inline\n",
        "\n",
        "import seaborn as sns\n",
        "sns.set(style = \"whitegrid\",\n",
        "        color_codes = True,\n",
        "        font_scale = 1.5)"
      ]
    },
    {
      "cell_type": "markdown",
      "metadata": {
        "nbgrader": {
          "grade": false,
          "grade_id": "loading",
          "locked": true,
          "schema_version": 2,
          "solution": false
        },
        "id": "vXkbaYkDD7r8"
      },
      "source": [
        "### Loading in the Data\n",
        "\n",
        "In email classification, our goal is to classify emails as spam or not spam (referred to as \"ham\") using features generated from the text in the email.\n",
        "\n",
        "The dataset consists of email messages and their labels (0 for ham, 1 for spam). Our labeled training dataset contains 8348 labeled examples, and the test set contains 1000 unlabeled examples.\n",
        "\n",
        "The `train` DataFrame contains labeled data that we will use to train our model. It contains four columns:\n",
        "\n",
        "1. `id`: An identifier for the training example\n",
        "1. `subject`: The subject of the email\n",
        "1. `email`: The text of the email\n",
        "1. `spam`: 1 if the email is spam, 0 if the email is ham (not spam)\n",
        "\n",
        "The `test` DataFrame contains 1000 unlabeled emails. We will predict labels for these emails and submit our predictions to the autograder for evaluation."
      ]
    },
    {
      "cell_type": "code",
      "execution_count": null,
      "metadata": {
        "ExecuteTime": {
          "end_time": "2019-04-03T20:17:42.181245Z",
          "start_time": "2019-04-03T20:17:41.343927Z"
        },
        "nbgrader": {
          "grade": false,
          "grade_id": "fetch-data",
          "locked": true,
          "schema_version": 2,
          "solution": false
        },
        "id": "hyQGDVChD7r8",
        "outputId": "f35ff11e-bcee-43cc-a81d-f69e119a914b"
      },
      "outputs": [
        {
          "name": "stdout",
          "output_type": "stream",
          "text": [
            "Using version already downloaded: Sat Aug  1 16:54:36 2020\n",
            "MD5 hash of file: 0380c4cf72746622947b9ca5db9b8be8\n",
            "Using version already downloaded: Sat Aug  1 16:54:37 2020\n",
            "MD5 hash of file: a2e7abd8c7d9abf6e6fafc1d1f9ee6bf\n"
          ]
        },
        {
          "data": {
            "text/html": [
              "<div>\n",
              "<style scoped>\n",
              "    .dataframe tbody tr th:only-of-type {\n",
              "        vertical-align: middle;\n",
              "    }\n",
              "\n",
              "    .dataframe tbody tr th {\n",
              "        vertical-align: top;\n",
              "    }\n",
              "\n",
              "    .dataframe thead th {\n",
              "        text-align: right;\n",
              "    }\n",
              "</style>\n",
              "<table border=\"1\" class=\"dataframe\">\n",
              "  <thead>\n",
              "    <tr style=\"text-align: right;\">\n",
              "      <th></th>\n",
              "      <th>id</th>\n",
              "      <th>subject</th>\n",
              "      <th>email</th>\n",
              "      <th>spam</th>\n",
              "    </tr>\n",
              "  </thead>\n",
              "  <tbody>\n",
              "    <tr>\n",
              "      <th>0</th>\n",
              "      <td>0</td>\n",
              "      <td>Subject: A&amp;L Daily to be auctioned in bankrupt...</td>\n",
              "      <td>url: http://boingboing.net/#85534171\\n date: n...</td>\n",
              "      <td>0</td>\n",
              "    </tr>\n",
              "    <tr>\n",
              "      <th>1</th>\n",
              "      <td>1</td>\n",
              "      <td>Subject: Wired: \"Stronger ties between ISPs an...</td>\n",
              "      <td>url: http://scriptingnews.userland.com/backiss...</td>\n",
              "      <td>0</td>\n",
              "    </tr>\n",
              "    <tr>\n",
              "      <th>2</th>\n",
              "      <td>2</td>\n",
              "      <td>Subject: It's just too small                  ...</td>\n",
              "      <td>&lt;html&gt;\\n &lt;head&gt;\\n &lt;/head&gt;\\n &lt;body&gt;\\n &lt;font siz...</td>\n",
              "      <td>1</td>\n",
              "    </tr>\n",
              "    <tr>\n",
              "      <th>3</th>\n",
              "      <td>3</td>\n",
              "      <td>Subject: liberal defnitions\\n</td>\n",
              "      <td>depends on how much over spending vs. how much...</td>\n",
              "      <td>0</td>\n",
              "    </tr>\n",
              "    <tr>\n",
              "      <th>4</th>\n",
              "      <td>4</td>\n",
              "      <td>Subject: RE: [ILUG] Newbie seeks advice - Suse...</td>\n",
              "      <td>hehe sorry but if you hit caps lock twice the ...</td>\n",
              "      <td>0</td>\n",
              "    </tr>\n",
              "  </tbody>\n",
              "</table>\n",
              "</div>"
            ],
            "text/plain": [
              "   id                                            subject  \\\n",
              "0   0  Subject: A&L Daily to be auctioned in bankrupt...   \n",
              "1   1  Subject: Wired: \"Stronger ties between ISPs an...   \n",
              "2   2  Subject: It's just too small                  ...   \n",
              "3   3                      Subject: liberal defnitions\\n   \n",
              "4   4  Subject: RE: [ILUG] Newbie seeks advice - Suse...   \n",
              "\n",
              "                                               email  spam  \n",
              "0  url: http://boingboing.net/#85534171\\n date: n...     0  \n",
              "1  url: http://scriptingnews.userland.com/backiss...     0  \n",
              "2  <html>\\n <head>\\n </head>\\n <body>\\n <font siz...     1  \n",
              "3  depends on how much over spending vs. how much...     0  \n",
              "4  hehe sorry but if you hit caps lock twice the ...     0  "
            ]
          },
          "execution_count": 3,
          "metadata": {},
          "output_type": "execute_result"
        }
      ],
      "source": [
        "from utils import fetch_and_cache_gdrive\n",
        "fetch_and_cache_gdrive('1SCASpLZFKCp2zek-toR3xeKX3DZnBSyp', 'train.csv')\n",
        "fetch_and_cache_gdrive('1ZDFo9OTF96B5GP2Nzn8P8-AL7CTQXmC0', 'test.csv')\n",
        "\n",
        "original_training_data = pd.read_csv('data/train.csv')\n",
        "test = pd.read_csv('data/test.csv')\n",
        "\n",
        "# Convert the emails to lower case as a first step to processing the text\n",
        "original_training_data['email'] = original_training_data['email'].str.lower()\n",
        "test['email'] = test['email'].str.lower()\n",
        "\n",
        "original_training_data.head()"
      ]
    },
    {
      "cell_type": "markdown",
      "metadata": {
        "deletable": false,
        "editable": false,
        "nbgrader": {
          "grade": false,
          "grade_id": "cell-34476156ed73b800",
          "locked": true,
          "schema_version": 2,
          "solution": false
        },
        "id": "67FAc-XYD7r9"
      },
      "source": [
        "### Question 1a\n",
        "First, let's check if our data contains any missing values. Fill in the cell below to print the number of NaN values in each column. If there are NaN values, replace them with appropriate filler values (i.e., NaN values in the `subject` or `email` columns should be replaced with empty strings). Print the number of NaN values in each column after this modification to verify that there are no NaN values left.\n",
        "\n",
        "Note that while there are no NaN values in the `spam` column, we should be careful when replacing NaN labels. Doing so without consideration may introduce significant bias into our model when fitting.\n",
        "\n",
        "*The provided test checks that there are no missing values in our dataset.*\n",
        "\n",
        "<!--\n",
        "BEGIN QUESTION\n",
        "name: q1a\n",
        "points: 1\n",
        "-->"
      ]
    },
    {
      "cell_type": "code",
      "execution_count": null,
      "metadata": {
        "ExecuteTime": {
          "end_time": "2019-04-03T20:17:42.203231Z",
          "start_time": "2019-04-03T20:17:42.185104Z"
        },
        "nbgrader": {
          "grade": false,
          "grade_id": "cell-b1fb39d9b651ca1b",
          "locked": false,
          "schema_version": 2,
          "solution": true
        },
        "id": "tiqHuvWfD7r9",
        "outputId": "827a86ec-fa30-46c4-91c6-fd590818749b"
      },
      "outputs": [
        {
          "name": "stdout",
          "output_type": "stream",
          "text": [
            "id         0\n",
            "subject    0\n",
            "email      0\n",
            "spam       0\n",
            "dtype: int64\n"
          ]
        }
      ],
      "source": [
        "original_training_data = original_training_data.fillna('')\n",
        "print(np.sum(original_training_data.isnull(), axis=0))"
      ]
    },
    {
      "cell_type": "code",
      "execution_count": null,
      "metadata": {
        "deletable": false,
        "editable": false,
        "id": "HSKGvre7D7r9",
        "outputId": "f03cfa92-3097-4d88-9fab-47fde64c23c6"
      },
      "outputs": [
        {
          "data": {
            "text/html": [
              "\n",
              "    \n",
              "    \n",
              "        <p>All tests passed!</p>\n",
              "    \n",
              "    "
            ],
            "text/plain": [
              "\n",
              "    All tests passed!\n",
              "    "
            ]
          },
          "execution_count": 5,
          "metadata": {},
          "output_type": "execute_result"
        }
      ],
      "source": [
        "grader.check(\"q1a\")"
      ]
    },
    {
      "cell_type": "code",
      "execution_count": null,
      "metadata": {
        "id": "xsXeAoB1D7r9",
        "outputId": "75a49986-1bf8-485a-f638-89039c3be250"
      },
      "outputs": [
        {
          "data": {
            "text/html": [
              "<div>\n",
              "<style scoped>\n",
              "    .dataframe tbody tr th:only-of-type {\n",
              "        vertical-align: middle;\n",
              "    }\n",
              "\n",
              "    .dataframe tbody tr th {\n",
              "        vertical-align: top;\n",
              "    }\n",
              "\n",
              "    .dataframe thead th {\n",
              "        text-align: right;\n",
              "    }\n",
              "</style>\n",
              "<table border=\"1\" class=\"dataframe\">\n",
              "  <thead>\n",
              "    <tr style=\"text-align: right;\">\n",
              "      <th></th>\n",
              "      <th>id</th>\n",
              "      <th>subject</th>\n",
              "      <th>email</th>\n",
              "      <th>spam</th>\n",
              "    </tr>\n",
              "  </thead>\n",
              "  <tbody>\n",
              "    <tr>\n",
              "      <th>0</th>\n",
              "      <td>0</td>\n",
              "      <td>Subject: A&amp;L Daily to be auctioned in bankrupt...</td>\n",
              "      <td>url: http://boingboing.net/#85534171\\n date: n...</td>\n",
              "      <td>0</td>\n",
              "    </tr>\n",
              "    <tr>\n",
              "      <th>1</th>\n",
              "      <td>1</td>\n",
              "      <td>Subject: Wired: \"Stronger ties between ISPs an...</td>\n",
              "      <td>url: http://scriptingnews.userland.com/backiss...</td>\n",
              "      <td>0</td>\n",
              "    </tr>\n",
              "    <tr>\n",
              "      <th>2</th>\n",
              "      <td>2</td>\n",
              "      <td>Subject: It's just too small                  ...</td>\n",
              "      <td>&lt;html&gt;\\n &lt;head&gt;\\n &lt;/head&gt;\\n &lt;body&gt;\\n &lt;font siz...</td>\n",
              "      <td>1</td>\n",
              "    </tr>\n",
              "    <tr>\n",
              "      <th>3</th>\n",
              "      <td>3</td>\n",
              "      <td>Subject: liberal defnitions\\n</td>\n",
              "      <td>depends on how much over spending vs. how much...</td>\n",
              "      <td>0</td>\n",
              "    </tr>\n",
              "    <tr>\n",
              "      <th>4</th>\n",
              "      <td>4</td>\n",
              "      <td>Subject: RE: [ILUG] Newbie seeks advice - Suse...</td>\n",
              "      <td>hehe sorry but if you hit caps lock twice the ...</td>\n",
              "      <td>0</td>\n",
              "    </tr>\n",
              "    <tr>\n",
              "      <th>...</th>\n",
              "      <td>...</td>\n",
              "      <td>...</td>\n",
              "      <td>...</td>\n",
              "      <td>...</td>\n",
              "    </tr>\n",
              "    <tr>\n",
              "      <th>8343</th>\n",
              "      <td>8343</td>\n",
              "      <td>Subject: Re: ALSA (almost) made easy\\n</td>\n",
              "      <td>thanks for this, i'm going to give them anothe...</td>\n",
              "      <td>0</td>\n",
              "    </tr>\n",
              "    <tr>\n",
              "      <th>8344</th>\n",
              "      <td>8344</td>\n",
              "      <td>Subject: Re: Goodbye Global Warming\\n</td>\n",
              "      <td>thanks for the link - i'm fascinated by archae...</td>\n",
              "      <td>0</td>\n",
              "    </tr>\n",
              "    <tr>\n",
              "      <th>8345</th>\n",
              "      <td>8345</td>\n",
              "      <td>Subject: hello\\n</td>\n",
              "      <td>we need help.  we are a 14 year old fortune 50...</td>\n",
              "      <td>1</td>\n",
              "    </tr>\n",
              "    <tr>\n",
              "      <th>8346</th>\n",
              "      <td>8346</td>\n",
              "      <td>Subject: Your application is below. Expires Ju...</td>\n",
              "      <td>&lt;html&gt;\\n \\n \\n &lt;head&gt; \\n &lt;meta charset=3dutf-8...</td>\n",
              "      <td>1</td>\n",
              "    </tr>\n",
              "    <tr>\n",
              "      <th>8347</th>\n",
              "      <td>8347</td>\n",
              "      <td>Subject: Re: [SAtalk] CONFIDENTIAL\\n</td>\n",
              "      <td>on wed, 2002-08-21 at 06:42, craig r.hughes wr...</td>\n",
              "      <td>0</td>\n",
              "    </tr>\n",
              "  </tbody>\n",
              "</table>\n",
              "<p>8348 rows × 4 columns</p>\n",
              "</div>"
            ],
            "text/plain": [
              "        id                                            subject  \\\n",
              "0        0  Subject: A&L Daily to be auctioned in bankrupt...   \n",
              "1        1  Subject: Wired: \"Stronger ties between ISPs an...   \n",
              "2        2  Subject: It's just too small                  ...   \n",
              "3        3                      Subject: liberal defnitions\\n   \n",
              "4        4  Subject: RE: [ILUG] Newbie seeks advice - Suse...   \n",
              "...    ...                                                ...   \n",
              "8343  8343             Subject: Re: ALSA (almost) made easy\\n   \n",
              "8344  8344              Subject: Re: Goodbye Global Warming\\n   \n",
              "8345  8345                                   Subject: hello\\n   \n",
              "8346  8346  Subject: Your application is below. Expires Ju...   \n",
              "8347  8347               Subject: Re: [SAtalk] CONFIDENTIAL\\n   \n",
              "\n",
              "                                                  email  spam  \n",
              "0     url: http://boingboing.net/#85534171\\n date: n...     0  \n",
              "1     url: http://scriptingnews.userland.com/backiss...     0  \n",
              "2     <html>\\n <head>\\n </head>\\n <body>\\n <font siz...     1  \n",
              "3     depends on how much over spending vs. how much...     0  \n",
              "4     hehe sorry but if you hit caps lock twice the ...     0  \n",
              "...                                                 ...   ...  \n",
              "8343  thanks for this, i'm going to give them anothe...     0  \n",
              "8344  thanks for the link - i'm fascinated by archae...     0  \n",
              "8345  we need help.  we are a 14 year old fortune 50...     1  \n",
              "8346  <html>\\n \\n \\n <head> \\n <meta charset=3dutf-8...     1  \n",
              "8347  on wed, 2002-08-21 at 06:42, craig r.hughes wr...     0  \n",
              "\n",
              "[8348 rows x 4 columns]"
            ]
          },
          "execution_count": 6,
          "metadata": {},
          "output_type": "execute_result"
        }
      ],
      "source": [
        "original_training_data"
      ]
    },
    {
      "cell_type": "code",
      "execution_count": null,
      "metadata": {
        "ExecuteTime": {
          "end_time": "2019-04-03T20:17:42.247245Z",
          "start_time": "2019-04-03T20:17:42.228451Z"
        },
        "nbgrader": {
          "grade": false,
          "grade_id": "q1-answer",
          "locked": false,
          "schema_version": 2,
          "solution": true
        },
        "id": "uQewgFwCD7r9",
        "outputId": "78aa5218-d1c5-490a-9005-e09771ff9ce9"
      },
      "outputs": [
        {
          "name": "stdout",
          "output_type": "stream",
          "text": [
            "url: http://boingboing.net/#85534171\n",
            " date: not supplied\n",
            " \n",
            " arts and letters daily, a wonderful and dense blog, has folded up its tent due \n",
            " to the bankruptcy of its parent company. a&l daily will be auctioned off by the \n",
            " receivers. link[1] discuss[2] (_thanks, misha!_)\n",
            " \n",
            " [1] http://www.aldaily.com/\n",
            " [2] http://www.quicktopic.com/boing/h/zlfterjnd6jf\n",
            " \n",
            " \n",
            "\n",
            "<html>\n",
            " <head>\n",
            " </head>\n",
            " <body>\n",
            " <font size=3d\"4\"><b> a man endowed with a 7-8\" hammer is simply<br>\n",
            "  better equipped than a man with a 5-6\"hammer. <br>\n",
            " <br>would you rather have<br>more than enough to get the job done or fall =\n",
            " short. it's totally up<br>to you. our methods are guaranteed to increase y=\n",
            " our size by 1-3\"<br> <a href=3d\"http://209.163.187.47/cgi-bin/index.php?10=\n",
            " 004\">come in here and see how</a>\n",
            " </body>\n",
            " </html>\n",
            " \n",
            " \n",
            " \n",
            "\n"
          ]
        }
      ],
      "source": [
        "first_ham = original_training_data.iloc[0, 2]\n",
        "first_spam = original_training_data.iloc[2, 2]\n",
        "print(first_ham)\n",
        "print(first_spam)"
      ]
    },
    {
      "cell_type": "code",
      "execution_count": null,
      "metadata": {
        "deletable": false,
        "editable": false,
        "id": "qTI0qNfzD7r9",
        "outputId": "66c79fa0-f86d-4ded-de21-a6f934104e3b"
      },
      "outputs": [
        {
          "data": {
            "text/html": [
              "\n",
              "    \n",
              "    \n",
              "        <p>All tests passed!</p>\n",
              "    \n",
              "    "
            ],
            "text/plain": [
              "\n",
              "    All tests passed!\n",
              "    "
            ]
          },
          "execution_count": 8,
          "metadata": {},
          "output_type": "execute_result"
        }
      ],
      "source": [
        "grader.check(\"q1b\")"
      ]
    },
    {
      "cell_type": "markdown",
      "metadata": {
        "deletable": false,
        "editable": false,
        "id": "yUdxrX0DD7r-"
      },
      "source": [
        "<!-- BEGIN QUESTION -->\n",
        "\n",
        "### Question 1c\n",
        "\n",
        "One thing we notice that is different between the two emails that might relate to the identification of spam:\n",
        "\n",
        "<!--\n",
        "BEGIN QUESTION\n",
        "name: q1c\n",
        "manual: True\n",
        "points: 2\n",
        "-->"
      ]
    },
    {
      "cell_type": "markdown",
      "metadata": {
        "id": "n0rsjbOVD7r-"
      },
      "source": [
        "The ham email seems more personalized since it includes a name as well, whereas the spam email seems to contain a template consisting of texts like \\<\\\\html\\>,\\<\\\\head\\> etc. It also seems to use very general wording."
      ]
    },
    {
      "cell_type": "markdown",
      "metadata": {
        "nbgrader": {
          "grade": false,
          "grade_id": "cell-78513403ef52a957",
          "locked": true,
          "schema_version": 2,
          "solution": false
        },
        "id": "kI1FK9V4D7r-"
      },
      "source": [
        "<!-- END QUESTION -->\n",
        "\n",
        "\n",
        "\n",
        "## Training Validation Split\n",
        "The training data we downloaded is all the data we have available for both training models and **validating** the models that we train.  We therefore need to split the training data into separate training and validation datsets.  We will need this **validation data** to assess the performance of our classifier once we are finished training. Note that we set the seed (random_state) to 42. This will produce a pseudo-random sequence of random numbers that is the same for every student."
      ]
    },
    {
      "cell_type": "code",
      "execution_count": null,
      "metadata": {
        "ExecuteTime": {
          "end_time": "2019-04-03T20:17:42.317970Z",
          "start_time": "2019-04-03T20:17:42.294532Z"
        },
        "nbgrader": {
          "grade": false,
          "grade_id": "cell-873194ed3e686dfb",
          "locked": true,
          "schema_version": 2,
          "solution": false
        },
        "id": "sDlTLiqXD7r-"
      },
      "outputs": [],
      "source": [
        "from sklearn.model_selection import train_test_split\n",
        "\n",
        "train, val = train_test_split(original_training_data, test_size=0.1, random_state=42)"
      ]
    },
    {
      "cell_type": "markdown",
      "metadata": {
        "nbgrader": {
          "grade": false,
          "grade_id": "feat-eng",
          "locked": true,
          "schema_version": 2,
          "solution": false
        },
        "id": "E-_mQdbMD7r-"
      },
      "source": [
        "# Basic Feature Engineering\n",
        "\n",
        "We would like to take the text of an email and predict whether the email is ham or spam. This is a *classification* problem, so we can use logistic regression to train a classifier. To train an logistic regression model we need a numeric feature matrix $X$ and a vector of corresponding binary labels $y$.  Unfortunately, our data are text, not numbers. To address this, we can create numeric features derived from the email text and use those features for logistic regression.\n",
        "\n",
        "Each row of $X$ is an email. Each column of $X$ contains one feature for all the emails."
      ]
    },
    {
      "cell_type": "markdown",
      "metadata": {
        "deletable": false,
        "editable": false,
        "nbgrader": {
          "grade": false,
          "grade_id": "q2",
          "locked": true,
          "schema_version": 2,
          "solution": false
        },
        "id": "qdKBUub8D7r-"
      },
      "source": [
        "### Question 2\n",
        "\n",
        "We will create a function called `words_in_texts` that takes in a list of `words` and a pandas Series of email `texts`. It should output a 2-dimensional NumPy array containing one row for each email text. The row should contain either a 0 or a 1 for each word in the list: 0 if the word doesn't appear in the text and 1 if the word does. For example:\n",
        "\n",
        "```\n",
        ">>> words_in_texts(['hello', 'bye', 'world'],\n",
        "                   pd.Series(['hello', 'hello worldhello']))\n",
        "\n",
        "array([[1, 0, 0],\n",
        "       [1, 0, 1]])\n",
        "```\n",
        "\n",
        "\n",
        "<!--\n",
        "BEGIN QUESTION\n",
        "name: q2\n",
        "points: 3\n",
        "-->"
      ]
    },
    {
      "cell_type": "code",
      "execution_count": null,
      "metadata": {
        "ExecuteTime": {
          "end_time": "2019-04-03T20:17:42.337281Z",
          "start_time": "2019-04-03T20:17:42.320567Z"
        },
        "nbgrader": {
          "grade": false,
          "grade_id": "q2-answer",
          "locked": false,
          "schema_version": 2,
          "solution": true
        },
        "tags": [
          "student"
        ],
        "id": "AkOLkgDHD7r-",
        "outputId": "0e417d28-a3d8-4add-b253-f9815e96d334"
      },
      "outputs": [
        {
          "data": {
            "text/plain": [
              "array([[1, 0, 0],\n",
              "       [1, 0, 1]])"
            ]
          },
          "execution_count": 10,
          "metadata": {},
          "output_type": "execute_result"
        }
      ],
      "source": [
        "def words_in_texts(words, texts):\n",
        "    '''\n",
        "    Args:\n",
        "        words (list-like): words to find\n",
        "        texts (Series): strings to search in\n",
        "\n",
        "    Returns:\n",
        "        NumPy array of 0s and 1s with shape (n, p) where n is the\n",
        "        number of texts and p is the number of words.\n",
        "    '''\n",
        "    indicator_array = np.array([texts.str.contains(h, regex=False)*1 for h in words]).T\n",
        "    return indicator_array\n",
        "\n",
        "words_in_texts(['hello', 'bye', 'world'],\n",
        "                   pd.Series(['hello', 'hello worldhello']))"
      ]
    },
    {
      "cell_type": "code",
      "execution_count": null,
      "metadata": {
        "deletable": false,
        "editable": false,
        "id": "GoR_dib2D7r-",
        "outputId": "a43ddbad-35cc-460a-a202-2cba4e7f828a"
      },
      "outputs": [
        {
          "data": {
            "text/html": [
              "\n",
              "    \n",
              "    \n",
              "        <p>All tests passed!</p>\n",
              "    \n",
              "    "
            ],
            "text/plain": [
              "\n",
              "    All tests passed!\n",
              "    "
            ]
          },
          "execution_count": 11,
          "metadata": {},
          "output_type": "execute_result"
        }
      ],
      "source": [
        "grader.check(\"q2\")"
      ]
    },
    {
      "cell_type": "markdown",
      "metadata": {
        "nbgrader": {
          "grade": false,
          "grade_id": "eda",
          "locked": true,
          "schema_version": 2,
          "solution": false
        },
        "id": "1wqDYBhuD7r-"
      },
      "source": [
        "# Basic EDA\n",
        "\n",
        "We need to identify some features that allow us to distinguish spam emails from ham emails. One idea is to compare the distribution of a single feature in spam emails to the distribution of the same feature in ham emails. If the feature is itself a binary indicator, such as whether a certain word occurs in the text, this amounts to comparing the proportion of spam emails with the word to the proportion of ham emails with the word.\n"
      ]
    },
    {
      "cell_type": "code",
      "execution_count": null,
      "metadata": {
        "id": "cXLsVDxfD7r_",
        "outputId": "120ae3a8-a860-4526-ea65-0b2c975c22cb"
      },
      "outputs": [
        {
          "data": {
            "text/html": [
              "<div>\n",
              "<style scoped>\n",
              "    .dataframe tbody tr th:only-of-type {\n",
              "        vertical-align: middle;\n",
              "    }\n",
              "\n",
              "    .dataframe tbody tr th {\n",
              "        vertical-align: top;\n",
              "    }\n",
              "\n",
              "    .dataframe thead th {\n",
              "        text-align: right;\n",
              "    }\n",
              "</style>\n",
              "<table border=\"1\" class=\"dataframe\">\n",
              "  <thead>\n",
              "    <tr style=\"text-align: right;\">\n",
              "      <th></th>\n",
              "      <th>id</th>\n",
              "      <th>subject</th>\n",
              "      <th>email</th>\n",
              "      <th>spam</th>\n",
              "    </tr>\n",
              "  </thead>\n",
              "  <tbody>\n",
              "    <tr>\n",
              "      <th>7657</th>\n",
              "      <td>7657</td>\n",
              "      <td>Subject: Patch to enable/disable log\\n</td>\n",
              "      <td>while i was playing with the past issues, it a...</td>\n",
              "      <td>0</td>\n",
              "    </tr>\n",
              "    <tr>\n",
              "      <th>6911</th>\n",
              "      <td>6911</td>\n",
              "      <td>Subject: When an engineer flaps his wings\\n</td>\n",
              "      <td>url: http://diveintomark.org/archives/2002/10/...</td>\n",
              "      <td>0</td>\n",
              "    </tr>\n",
              "    <tr>\n",
              "      <th>6074</th>\n",
              "      <td>6074</td>\n",
              "      <td>Subject: Re: [Razor-users] razor plugins for m...</td>\n",
              "      <td>no, please post a link!\\n \\n fox\\n ----- origi...</td>\n",
              "      <td>0</td>\n",
              "    </tr>\n",
              "    <tr>\n",
              "      <th>4376</th>\n",
              "      <td>4376</td>\n",
              "      <td>Subject: NYTimes.com Article: Stop Those Press...</td>\n",
              "      <td>this article from nytimes.com \\n has been sent...</td>\n",
              "      <td>0</td>\n",
              "    </tr>\n",
              "    <tr>\n",
              "      <th>5766</th>\n",
              "      <td>5766</td>\n",
              "      <td>Subject: What's facing FBI's new CIO? (Tech Up...</td>\n",
              "      <td>&lt;html&gt;\\n &lt;head&gt;\\n &lt;title&gt;tech update today&lt;/ti...</td>\n",
              "      <td>0</td>\n",
              "    </tr>\n",
              "    <tr>\n",
              "      <th>...</th>\n",
              "      <td>...</td>\n",
              "      <td>...</td>\n",
              "      <td>...</td>\n",
              "      <td>...</td>\n",
              "    </tr>\n",
              "    <tr>\n",
              "      <th>5734</th>\n",
              "      <td>5734</td>\n",
              "      <td>Subject: [Spambayes] understanding high false ...</td>\n",
              "      <td>&gt;&gt;&gt;&gt;&gt; \"tp\" == tim peters &lt;tim.one@comcast.net&gt;...</td>\n",
              "      <td>0</td>\n",
              "    </tr>\n",
              "    <tr>\n",
              "      <th>5191</th>\n",
              "      <td>5191</td>\n",
              "      <td>Subject: Reach millions on the internet!!\\n</td>\n",
              "      <td>\\n dear consumers, increase your business sale...</td>\n",
              "      <td>1</td>\n",
              "    </tr>\n",
              "    <tr>\n",
              "      <th>5390</th>\n",
              "      <td>5390</td>\n",
              "      <td>Subject: Facts about sex.\\n</td>\n",
              "      <td>\\n forwarded-by: flower\\n \\n did you know that...</td>\n",
              "      <td>0</td>\n",
              "    </tr>\n",
              "    <tr>\n",
              "      <th>860</th>\n",
              "      <td>860</td>\n",
              "      <td>Subject: Re: Zoot apt/openssh &amp; new DVD playin...</td>\n",
              "      <td>on tue, oct 08, 2002 at 04:36:13pm +0200, matt...</td>\n",
              "      <td>0</td>\n",
              "    </tr>\n",
              "    <tr>\n",
              "      <th>7270</th>\n",
              "      <td>7270</td>\n",
              "      <td>Subject: Re: Internet radio - example from a c...</td>\n",
              "      <td>chris haun wrote:\\n &gt; \\n &gt; we would need someo...</td>\n",
              "      <td>0</td>\n",
              "    </tr>\n",
              "  </tbody>\n",
              "</table>\n",
              "<p>7513 rows × 4 columns</p>\n",
              "</div>"
            ],
            "text/plain": [
              "        id                                            subject  \\\n",
              "7657  7657             Subject: Patch to enable/disable log\\n   \n",
              "6911  6911        Subject: When an engineer flaps his wings\\n   \n",
              "6074  6074  Subject: Re: [Razor-users] razor plugins for m...   \n",
              "4376  4376  Subject: NYTimes.com Article: Stop Those Press...   \n",
              "5766  5766  Subject: What's facing FBI's new CIO? (Tech Up...   \n",
              "...    ...                                                ...   \n",
              "5734  5734  Subject: [Spambayes] understanding high false ...   \n",
              "5191  5191        Subject: Reach millions on the internet!!\\n   \n",
              "5390  5390                        Subject: Facts about sex.\\n   \n",
              "860    860  Subject: Re: Zoot apt/openssh & new DVD playin...   \n",
              "7270  7270  Subject: Re: Internet radio - example from a c...   \n",
              "\n",
              "                                                  email  spam  \n",
              "7657  while i was playing with the past issues, it a...     0  \n",
              "6911  url: http://diveintomark.org/archives/2002/10/...     0  \n",
              "6074  no, please post a link!\\n \\n fox\\n ----- origi...     0  \n",
              "4376  this article from nytimes.com \\n has been sent...     0  \n",
              "5766  <html>\\n <head>\\n <title>tech update today</ti...     0  \n",
              "...                                                 ...   ...  \n",
              "5734  >>>>> \"tp\" == tim peters <tim.one@comcast.net>...     0  \n",
              "5191  \\n dear consumers, increase your business sale...     1  \n",
              "5390  \\n forwarded-by: flower\\n \\n did you know that...     0  \n",
              "860   on tue, oct 08, 2002 at 04:36:13pm +0200, matt...     0  \n",
              "7270  chris haun wrote:\\n > \\n > we would need someo...     0  \n",
              "\n",
              "[7513 rows x 4 columns]"
            ]
          },
          "execution_count": 13,
          "metadata": {},
          "output_type": "execute_result"
        }
      ],
      "source": [
        "\n",
        "train #= train.reset_index(drop=True)\n",
        "#[train['email'][1]]"
      ]
    },
    {
      "cell_type": "code",
      "execution_count": null,
      "metadata": {
        "ExecuteTime": {
          "end_time": "2019-04-03T20:17:43.145246Z",
          "start_time": "2019-04-03T20:17:42.430406Z"
        },
        "nbgrader": {
          "grade": true,
          "grade_id": "q3a-answer",
          "locked": false,
          "points": 2,
          "schema_version": 2,
          "solution": true
        },
        "id": "UDIneNlxD7r_",
        "outputId": "456220b3-1f9c-4d92-8398-bb63fd7d663b"
      },
      "outputs": [
        {
          "data": {
            "text/plain": [
              "Text(0, 0.5, 'Proportion of Emails')"
            ]
          },
          "execution_count": 14,
          "metadata": {},
          "output_type": "execute_result"
        },
        {
          "data": {
            "image/png": "[encoded data removed]",
            "text/plain": [
              "<Figure size 504x432 with 1 Axes>"
            ]
          },
          "metadata": {
            "needs_background": "light"
          },
          "output_type": "display_data"
        }
      ],
      "source": [
        "train=train.reset_index(drop=True) # We must do this in order to preserve the ordering of emails to labels for words_in_texts\n",
        "\n",
        "ward = ['remove', 'best', 'url', '$', 'click']\n",
        "intexts = words_in_texts(ward, train['email'])\n",
        "\n",
        "dataf = pd.DataFrame(\n",
        "    intexts, columns=ward\n",
        ")\n",
        "dataf['type'] = train['spam']\n",
        "\n",
        "\n",
        "hams = dataf.query('type==0')\n",
        "spams = dataf.query('type==1')\n",
        "\n",
        "dataf = dataf.melt('type')\n",
        "\n",
        "#hamprop = [np.mean(hams[y]) for y in ward]\n",
        "#spamprop = [np.mean(spams[y]) for y in ward]\n",
        "\n",
        "\n",
        "dataf = dataf.groupby(['type', 'variable']).mean().reset_index()\n",
        "dataf = dataf.replace({0: 'Ham', 1: 'Spam'})\n",
        "\n",
        "plt.figure(figsize=[7, 6])\n",
        "plt.title('Frequency of Words in Ham/Spam Emails')\n",
        "sns.barplot(data = dataf, x = 'variable', y = 'value', hue='type')\n",
        "plt.ylim(0, 1)\n",
        "\n",
        "plt.xlabel('Words')\n",
        "plt.ylabel('Proportion of Emails')\n"
      ]
    },
    {
      "cell_type": "markdown",
      "metadata": {
        "nbgrader": {
          "grade": false,
          "grade_id": "q3b",
          "locked": true,
          "schema_version": 2,
          "solution": false
        },
        "id": "U50fyX_xD7r_"
      },
      "source": [
        "<!-- END QUESTION -->\n",
        "\n",
        "\n",
        "\n",
        "When the feature is binary, it makes sense to compare its proportions across classes (as in the previous question). Otherwise, if the feature can take on numeric values, we can compare the distributions of these values for different classes.\n",
        "\n",
        "![training conditional densities](./images/training_conditional_densities.png \"Class Conditional Densities\")\n"
      ]
    },
    {
      "cell_type": "markdown",
      "metadata": {
        "deletable": false,
        "editable": false,
        "id": "s1c69h6BD7r_"
      },
      "source": [
        "<!-- BEGIN QUESTION -->\n",
        "\n",
        "### Question 3b\n",
        "\n",
        "We create a *class conditional density plot* comparing the distribution of the length of spam emails to the distribution of the length of ham emails in the training set.\n",
        "<!--\n",
        "BEGIN QUESTION\n",
        "name: q3b\n",
        "manual: True\n",
        "format: image\n",
        "points: 2\n",
        "-->"
      ]
    },
    {
      "cell_type": "code",
      "execution_count": null,
      "metadata": {
        "id": "z2Vp0F8hD7r_",
        "outputId": "ad80e610-d53e-4c74-b80e-f16c670abab2"
      },
      "outputs": [
        {
          "data": {
            "text/html": [
              "<div>\n",
              "<style scoped>\n",
              "    .dataframe tbody tr th:only-of-type {\n",
              "        vertical-align: middle;\n",
              "    }\n",
              "\n",
              "    .dataframe tbody tr th {\n",
              "        vertical-align: top;\n",
              "    }\n",
              "\n",
              "    .dataframe thead th {\n",
              "        text-align: right;\n",
              "    }\n",
              "</style>\n",
              "<table border=\"1\" class=\"dataframe\">\n",
              "  <thead>\n",
              "    <tr style=\"text-align: right;\">\n",
              "      <th></th>\n",
              "      <th>id</th>\n",
              "      <th>subject</th>\n",
              "      <th>email</th>\n",
              "      <th>spam</th>\n",
              "    </tr>\n",
              "  </thead>\n",
              "  <tbody>\n",
              "    <tr>\n",
              "      <th>0</th>\n",
              "      <td>7657</td>\n",
              "      <td>Subject: Patch to enable/disable log\\n</td>\n",
              "      <td>while i was playing with the past issues, it a...</td>\n",
              "      <td>0</td>\n",
              "    </tr>\n",
              "    <tr>\n",
              "      <th>1</th>\n",
              "      <td>6911</td>\n",
              "      <td>Subject: When an engineer flaps his wings\\n</td>\n",
              "      <td>url: http://diveintomark.org/archives/2002/10/...</td>\n",
              "      <td>0</td>\n",
              "    </tr>\n",
              "    <tr>\n",
              "      <th>2</th>\n",
              "      <td>6074</td>\n",
              "      <td>Subject: Re: [Razor-users] razor plugins for m...</td>\n",
              "      <td>no, please post a link!\\n \\n fox\\n ----- origi...</td>\n",
              "      <td>0</td>\n",
              "    </tr>\n",
              "    <tr>\n",
              "      <th>3</th>\n",
              "      <td>4376</td>\n",
              "      <td>Subject: NYTimes.com Article: Stop Those Press...</td>\n",
              "      <td>this article from nytimes.com \\n has been sent...</td>\n",
              "      <td>0</td>\n",
              "    </tr>\n",
              "    <tr>\n",
              "      <th>4</th>\n",
              "      <td>5766</td>\n",
              "      <td>Subject: What's facing FBI's new CIO? (Tech Up...</td>\n",
              "      <td>&lt;html&gt;\\n &lt;head&gt;\\n &lt;title&gt;tech update today&lt;/ti...</td>\n",
              "      <td>0</td>\n",
              "    </tr>\n",
              "    <tr>\n",
              "      <th>...</th>\n",
              "      <td>...</td>\n",
              "      <td>...</td>\n",
              "      <td>...</td>\n",
              "      <td>...</td>\n",
              "    </tr>\n",
              "    <tr>\n",
              "      <th>7508</th>\n",
              "      <td>5734</td>\n",
              "      <td>Subject: [Spambayes] understanding high false ...</td>\n",
              "      <td>&gt;&gt;&gt;&gt;&gt; \"tp\" == tim peters &lt;tim.one@comcast.net&gt;...</td>\n",
              "      <td>0</td>\n",
              "    </tr>\n",
              "    <tr>\n",
              "      <th>7509</th>\n",
              "      <td>5191</td>\n",
              "      <td>Subject: Reach millions on the internet!!\\n</td>\n",
              "      <td>\\n dear consumers, increase your business sale...</td>\n",
              "      <td>1</td>\n",
              "    </tr>\n",
              "    <tr>\n",
              "      <th>7510</th>\n",
              "      <td>5390</td>\n",
              "      <td>Subject: Facts about sex.\\n</td>\n",
              "      <td>\\n forwarded-by: flower\\n \\n did you know that...</td>\n",
              "      <td>0</td>\n",
              "    </tr>\n",
              "    <tr>\n",
              "      <th>7511</th>\n",
              "      <td>860</td>\n",
              "      <td>Subject: Re: Zoot apt/openssh &amp; new DVD playin...</td>\n",
              "      <td>on tue, oct 08, 2002 at 04:36:13pm +0200, matt...</td>\n",
              "      <td>0</td>\n",
              "    </tr>\n",
              "    <tr>\n",
              "      <th>7512</th>\n",
              "      <td>7270</td>\n",
              "      <td>Subject: Re: Internet radio - example from a c...</td>\n",
              "      <td>chris haun wrote:\\n &gt; \\n &gt; we would need someo...</td>\n",
              "      <td>0</td>\n",
              "    </tr>\n",
              "  </tbody>\n",
              "</table>\n",
              "<p>7513 rows × 4 columns</p>\n",
              "</div>"
            ],
            "text/plain": [
              "        id                                            subject  \\\n",
              "0     7657             Subject: Patch to enable/disable log\\n   \n",
              "1     6911        Subject: When an engineer flaps his wings\\n   \n",
              "2     6074  Subject: Re: [Razor-users] razor plugins for m...   \n",
              "3     4376  Subject: NYTimes.com Article: Stop Those Press...   \n",
              "4     5766  Subject: What's facing FBI's new CIO? (Tech Up...   \n",
              "...    ...                                                ...   \n",
              "7508  5734  Subject: [Spambayes] understanding high false ...   \n",
              "7509  5191        Subject: Reach millions on the internet!!\\n   \n",
              "7510  5390                        Subject: Facts about sex.\\n   \n",
              "7511   860  Subject: Re: Zoot apt/openssh & new DVD playin...   \n",
              "7512  7270  Subject: Re: Internet radio - example from a c...   \n",
              "\n",
              "                                                  email  spam  \n",
              "0     while i was playing with the past issues, it a...     0  \n",
              "1     url: http://diveintomark.org/archives/2002/10/...     0  \n",
              "2     no, please post a link!\\n \\n fox\\n ----- origi...     0  \n",
              "3     this article from nytimes.com \\n has been sent...     0  \n",
              "4     <html>\\n <head>\\n <title>tech update today</ti...     0  \n",
              "...                                                 ...   ...  \n",
              "7508  >>>>> \"tp\" == tim peters <tim.one@comcast.net>...     0  \n",
              "7509  \\n dear consumers, increase your business sale...     1  \n",
              "7510  \\n forwarded-by: flower\\n \\n did you know that...     0  \n",
              "7511  on tue, oct 08, 2002 at 04:36:13pm +0200, matt...     0  \n",
              "7512  chris haun wrote:\\n > \\n > we would need someo...     0  \n",
              "\n",
              "[7513 rows x 4 columns]"
            ]
          },
          "execution_count": 15,
          "metadata": {},
          "output_type": "execute_result"
        }
      ],
      "source": [
        "train"
      ]
    },
    {
      "cell_type": "code",
      "execution_count": null,
      "metadata": {
        "ExecuteTime": {
          "end_time": "2019-04-03T20:17:43.492661Z",
          "start_time": "2019-04-03T20:17:43.149431Z"
        },
        "nbgrader": {
          "grade": true,
          "grade_id": "q3b-answer",
          "locked": false,
          "points": 2,
          "schema_version": 2,
          "solution": true
        },
        "id": "bkFOSWqjD7r_",
        "outputId": "55783fbe-7e23-472d-a9b3-f7a7a175a064"
      },
      "outputs": [
        {
          "data": {
            "text/plain": [
              "Text(0, 0.5, 'Distribution')"
            ]
          },
          "execution_count": 16,
          "metadata": {},
          "output_type": "execute_result"
        },
        {
          "data": {
            "image/png": "[encoded data removed]",
            "text/plain": [
              "<Figure size 432x288 with 1 Axes>"
            ]
          },
          "metadata": {
            "needs_background": "light"
          },
          "output_type": "display_data"
        }
      ],
      "source": [
        "classcon = train.replace({0: 'ham', 1: 'spam'})#.groupby('spam').apply(len())['email']\n",
        "classcon['charcount'] = [len(i) for i in classcon['email']]\n",
        "#classcon = classcon.groupby(['spam', 'charcount']).reset_index()\n",
        "#classcon\n",
        "sns.distplot(classcon.loc[classcon['spam'] != 'spam']['charcount'], hist=False, label='Ham')\n",
        "sns.distplot(classcon.loc[classcon['spam'] == 'spam']['charcount'], hist=False, label='Spam')\n",
        "\n",
        "plt.xlim(0, 50000)\n",
        "plt.xlabel('Length of email body')\n",
        "plt.ylabel('Distribution')"
      ]
    },
    {
      "cell_type": "markdown",
      "metadata": {
        "nbgrader": {
          "grade": false,
          "grade_id": "classification",
          "locked": true,
          "schema_version": 2,
          "solution": false
        },
        "id": "Xd6hUowKD7r_"
      },
      "source": [
        "<!-- END QUESTION -->\n",
        "\n",
        "\n",
        "\n",
        "# Basic Classification\n",
        "\n",
        "Notice that the output of `words_in_texts(words, train['email'])` is a numeric matrix containing features for each email. This means we can use it directly to train a classifier!"
      ]
    },
    {
      "cell_type": "markdown",
      "metadata": {
        "deletable": false,
        "editable": false,
        "nbgrader": {
          "grade": false,
          "grade_id": "q4",
          "locked": true,
          "schema_version": 2,
          "solution": false
        },
        "id": "T3Hp9D0pD7sA"
      },
      "source": [
        "### Question 4\n",
        "\n",
        "We're given 5 words that might be useful as features to distinguish spam/ham emails. We will use these words as well as the `train` DataFrame to create two NumPy arrays: `X_train` and `Y_train`.\n",
        "\n",
        "`X_train` should be a matrix of 0s and 1s created by using our `words_in_texts` function on all the emails in the training set.\n",
        "\n",
        "`Y_train` should be a vector of the correct labels for each email in the training set.\n",
        "\n",
        "<!--\n",
        "BEGIN QUESTION\n",
        "name: q4\n",
        "points: 2\n",
        "-->"
      ]
    },
    {
      "cell_type": "code",
      "execution_count": null,
      "metadata": {
        "ExecuteTime": {
          "end_time": "2019-04-03T20:17:43.726012Z",
          "start_time": "2019-04-03T20:17:43.498088Z"
        },
        "nbgrader": {
          "grade": false,
          "grade_id": "q4-answer",
          "locked": false,
          "schema_version": 2,
          "solution": true
        },
        "tags": [
          "student"
        ],
        "id": "J1G6Pct7D7sA",
        "outputId": "f59174ea-2096-4eb3-82ea-29b74c7a056a"
      },
      "outputs": [
        {
          "data": {
            "text/plain": [
              "(array([[0, 0, 0, 0, 0],\n",
              "        [0, 0, 0, 0, 0],\n",
              "        [0, 0, 0, 0, 0],\n",
              "        [0, 0, 0, 0, 0],\n",
              "        [0, 0, 0, 1, 0]]), 0    0\n",
              " 1    0\n",
              " 2    0\n",
              " 3    0\n",
              " 4    0\n",
              " Name: spam, dtype: int64)"
            ]
          },
          "execution_count": 17,
          "metadata": {},
          "output_type": "execute_result"
        }
      ],
      "source": [
        "some_words = ['drug', 'bank', 'prescription', 'memo', 'private']\n",
        "\n",
        "X_train = words_in_texts(some_words, train['email'])\n",
        "Y_train = train['spam']\n",
        "\n",
        "X_train[:5], Y_train[:5]"
      ]
    },
    {
      "cell_type": "code",
      "execution_count": null,
      "metadata": {
        "deletable": false,
        "editable": false,
        "id": "cRvd0-VbD7sA",
        "outputId": "c714b6c5-3e62-413b-9488-650a87446fde"
      },
      "outputs": [
        {
          "data": {
            "text/html": [
              "\n",
              "    \n",
              "    \n",
              "        <p>All tests passed!</p>\n",
              "    \n",
              "    "
            ],
            "text/plain": [
              "\n",
              "    All tests passed!\n",
              "    "
            ]
          },
          "execution_count": 18,
          "metadata": {},
          "output_type": "execute_result"
        }
      ],
      "source": [
        "grader.check(\"q4\")"
      ]
    },
    {
      "cell_type": "markdown",
      "metadata": {
        "deletable": false,
        "editable": false,
        "nbgrader": {
          "grade": false,
          "grade_id": "q5",
          "locked": true,
          "schema_version": 2,
          "solution": false
        },
        "id": "YehQnIMGD7sA"
      },
      "source": [
        "### Question 5\n",
        "\n",
        "Now that we have matrices, we can use to scikit-learn! Using the [`LogisticRegression`](http://scikit-learn.org/stable/modules/generated/sklearn.linear_model.LogisticRegression.html) classifier, we will train a logistic regression model using `X_train` and `Y_train`.\n",
        "\n",
        "<!--\n",
        "BEGIN QUESTION\n",
        "name: q5\n",
        "points: 2\n",
        "-->"
      ]
    },
    {
      "cell_type": "code",
      "execution_count": null,
      "metadata": {
        "ExecuteTime": {
          "end_time": "2019-04-03T20:17:44.593918Z",
          "start_time": "2019-04-03T20:17:43.783872Z"
        },
        "nbgrader": {
          "grade": false,
          "grade_id": "q5-answer",
          "locked": false,
          "schema_version": 2,
          "solution": true
        },
        "tags": [
          "student"
        ],
        "id": "B4cFrRPCD7sI",
        "outputId": "3edd7af5-5610-4ecf-d6f5-a77a2bc105fd"
      },
      "outputs": [
        {
          "name": "stdout",
          "output_type": "stream",
          "text": [
            "Training Accuracy:  0.7576201251164648\n"
          ]
        }
      ],
      "source": [
        "from sklearn.linear_model import LogisticRegression\n",
        "lr = LogisticRegression(fit_intercept=True, solver = 'lbfgs')\n",
        "model = lr.fit(X_train, Y_train)\n",
        "\n",
        "\n",
        "training_accuracy = np.mean(model.predict(X_train) == Y_train)\n",
        "print(\"Training Accuracy: \", training_accuracy)"
      ]
    },
    {
      "cell_type": "code",
      "execution_count": null,
      "metadata": {
        "deletable": false,
        "editable": false,
        "id": "OgFKix8TD7sJ",
        "outputId": "99fc32c6-e21f-41b3-810c-b8d7a62fb61e"
      },
      "outputs": [
        {
          "data": {
            "text/html": [
              "\n",
              "    \n",
              "    \n",
              "        <p>All tests passed!</p>\n",
              "    \n",
              "    "
            ],
            "text/plain": [
              "\n",
              "    All tests passed!\n",
              "    "
            ]
          },
          "execution_count": 20,
          "metadata": {},
          "output_type": "execute_result"
        }
      ],
      "source": [
        "grader.check(\"q5\")"
      ]
    },
    {
      "cell_type": "markdown",
      "metadata": {
        "id": "OC4N3C4YD7sJ"
      },
      "source": [
        "## Evaluating Classifiers"
      ]
    },
    {
      "cell_type": "markdown",
      "metadata": {
        "id": "EPTExjn6D7sJ"
      },
      "source": [
        "That doesn't seem too shabby! But the classifier we made above isn't as good as this might lead us to believe. First, we are evaluating accuracy on the training set, which may provide a misleading accuracy measure. Accuracy on the training set doesn't always translate to accuracy in the real world (on the test set). In future parts of this analysis, it will be safer to hold out some of our data for model validation and comparison.\n",
        "\n",
        "Presumably, our classifier will be used for **filtering**, i.e. preventing messages labeled `spam` from reaching someone's inbox. There are two kinds of errors we can make:\n",
        "- False positive (FP): a ham email gets flagged as spam and filtered out of the inbox.\n",
        "- False negative (FN): a spam email gets mislabeled as ham and ends up in the inbox.\n",
        "\n",
        "To be clear, we label spam emails as 1 and ham emails as 0. These definitions depend both on the true labels and the predicted labels. False positives and false negatives may be of differing importance, leading us to consider more ways of evaluating a classifier, in addition to overall accuracy:\n",
        "\n",
        "**Precision** measures the proportion $\\frac{\\text{TP}}{\\text{TP} + \\text{FP}}$ of emails flagged as spam that are actually spam.\n",
        "\n",
        "**Recall** measures the proportion $\\frac{\\text{TP}}{\\text{TP} + \\text{FN}}$ of actually spam emails that were correctly flagged as spam.\n",
        "\n",
        "**False-alarm rate** measures the proportion $\\frac{\\text{FP}}{\\text{FP} + \\text{TN}}$ of ham emails that were incorrectly flagged as spam.\n",
        "\n",
        "\n",
        "<img src=\"https://upload.wikimedia.org/wikipedia/commons/thumb/2/26/Precisionrecall.svg/700px-Precisionrecall.svg.png\" width=\"500px\">\n",
        "\n",
        "Note that a true positive (TP) is a spam email that is classified as spam, and a true negative (TN) is a ham email that is classified as ham."
      ]
    },
    {
      "cell_type": "markdown",
      "metadata": {
        "deletable": false,
        "editable": false,
        "nbgrader": {
          "grade": false,
          "grade_id": "q6",
          "locked": true,
          "schema_version": 2,
          "solution": false
        },
        "id": "u_fXX5xVD7sJ"
      },
      "source": [
        "### Question 6a\n",
        "\n",
        "Suppose we have a classifier `zero_predictor` that always predicts 0 (never predicts positive). How many false positives and false negatives would this classifier have if it were evaluated on the training set and its results were compared to `Y_train`?\n",
        "\n",
        "<!--\n",
        "BEGIN QUESTION\n",
        "name: q6a\n",
        "points: 1\n",
        "-->"
      ]
    },
    {
      "cell_type": "code",
      "execution_count": null,
      "metadata": {
        "ExecuteTime": {
          "end_time": "2019-04-03T20:20:13.853633Z",
          "start_time": "2019-04-03T20:20:13.825724Z"
        },
        "nbgrader": {
          "grade": false,
          "grade_id": "q6a-answer",
          "locked": false,
          "schema_version": 2,
          "solution": true
        },
        "id": "gXUNp7haD7sJ",
        "outputId": "e84ac422-56d4-424c-dfcb-23bcaf7163b0"
      },
      "outputs": [
        {
          "name": "stdout",
          "output_type": "stream",
          "text": [
            "1918\n"
          ]
        }
      ],
      "source": [
        "zero_predictor_fp = 0\n",
        "zero_predictor_fn = sum(Y_train)\n",
        "print(zero_predictor_fn)"
      ]
    },
    {
      "cell_type": "code",
      "execution_count": null,
      "metadata": {
        "deletable": false,
        "editable": false,
        "id": "pwlULuoxD7sJ",
        "outputId": "e68e499a-7303-454c-9110-486f4865b905"
      },
      "outputs": [
        {
          "data": {
            "text/html": [
              "\n",
              "    \n",
              "    \n",
              "        <p>All tests passed!</p>\n",
              "    \n",
              "    "
            ],
            "text/plain": [
              "\n",
              "    All tests passed!\n",
              "    "
            ]
          },
          "execution_count": 22,
          "metadata": {},
          "output_type": "execute_result"
        }
      ],
      "source": [
        "grader.check(\"q6a\")"
      ]
    },
    {
      "cell_type": "markdown",
      "metadata": {
        "deletable": false,
        "editable": false,
        "id": "a6ORnvjhD7sJ"
      },
      "source": [
        "### Question 6b\n",
        "\n",
        "What are the accuracy and recall of `zero_predictor` (classifies every email as ham) on the training set?\n",
        "\n",
        "<!--\n",
        "BEGIN QUESTION\n",
        "name: q6b\n",
        "points: 1\n",
        "-->"
      ]
    },
    {
      "cell_type": "code",
      "execution_count": null,
      "metadata": {
        "ExecuteTime": {
          "end_time": "2019-04-03T20:23:21.553134Z",
          "start_time": "2019-04-03T20:23:21.548219Z"
        },
        "id": "qyaPdvXSD7sJ",
        "outputId": "14cf7cd7-934d-47dd-d089-c008a44302fb"
      },
      "outputs": [
        {
          "data": {
            "text/plain": [
              "0.7447091707706642"
            ]
          },
          "execution_count": 23,
          "metadata": {},
          "output_type": "execute_result"
        }
      ],
      "source": [
        "zero_predictor_acc = (0+(len(Y_train)- zero_predictor_fn))/len(Y_train)\n",
        "zero_predictor_recall = 0\n",
        "zero_predictor_acc"
      ]
    },
    {
      "cell_type": "code",
      "execution_count": null,
      "metadata": {
        "deletable": false,
        "editable": false,
        "id": "l2j_b678D7sJ",
        "outputId": "a63f7b6d-a0b3-421e-fc59-e0f8f316ea5a"
      },
      "outputs": [
        {
          "data": {
            "text/html": [
              "\n",
              "    \n",
              "    \n",
              "        <p>All tests passed!</p>\n",
              "    \n",
              "    "
            ],
            "text/plain": [
              "\n",
              "    All tests passed!\n",
              "    "
            ]
          },
          "execution_count": 24,
          "metadata": {},
          "output_type": "execute_result"
        }
      ],
      "source": [
        "grader.check(\"q6b\")"
      ]
    },
    {
      "cell_type": "markdown",
      "metadata": {
        "deletable": false,
        "editable": false,
        "id": "o5je2lVGD7sJ"
      },
      "source": [
        "<!-- BEGIN QUESTION -->\n",
        "\n",
        "### Question 6c\n",
        "\n",
        "Brief explanations of the results from 6a and 6b. Why do we observe each of these values (FP, FN, accuracy, recall)?\n",
        "\n",
        "<!--\n",
        "BEGIN QUESTION\n",
        "name: q6c\n",
        "manual: True\n",
        "points: 2\n",
        "-->"
      ]
    },
    {
      "cell_type": "markdown",
      "metadata": {
        "id": "7uOZWdblD7sJ"
      },
      "source": [
        "Since our predictor always predicts 0 regardless, our false positive count is 0 because we aren't even bothering to predict anything as positive in the first place. As a result, our recall, which relies on our true positive count in the numerator, is also 0. Our false negative in this case would simply be the true number of Spam in our training set, which can be expressed as sum(Y_train) since 1's are spam. The accuracy would in this case simply be our true negative count divided by the total length of our data, since we have 0 true positives."
      ]
    },
    {
      "cell_type": "markdown",
      "metadata": {
        "deletable": false,
        "editable": false,
        "id": "fq_BP11GD7sJ"
      },
      "source": [
        "<!-- END QUESTION -->\n",
        "\n",
        "### Question 6d\n",
        "\n",
        "Compute the precision, recall, and false-alarm rate of the `LogisticRegression` classifier created and trained in Question 5. Do **NOT** use any `sklearn` functions.\n",
        "\n",
        "<!--\n",
        "BEGIN QUESTION\n",
        "name: q6d\n",
        "points: 2\n",
        "-->"
      ]
    },
    {
      "cell_type": "code",
      "execution_count": null,
      "metadata": {
        "ExecuteTime": {
          "end_time": "2019-04-03T20:37:54.875265Z",
          "start_time": "2019-04-03T20:37:54.720667Z"
        },
        "id": "f5W8nSbTD7sJ",
        "outputId": "4346abfd-fbdb-4e60-dada-53e31d01f4e2"
      },
      "outputs": [
        {
          "name": "stdout",
          "output_type": "stream",
          "text": [
            "122 1699 0.6422287390029325 0.11418143899895725 0.021805183199285077 219 5473\n"
          ]
        }
      ],
      "source": [
        "tp = np.sum((model.predict(X_train) == Y_train) & (model.predict(X_train) == 1))\n",
        "tn = np.sum((model.predict(X_train) == Y_train) & (model.predict(X_train) == 0))\n",
        "fp = np.sum((model.predict(X_train) == 1) & (model.predict(X_train) != Y_train))\n",
        "fn = np.sum((model.predict(X_train) == 0) & (model.predict(X_train) != Y_train))\n",
        "logistic_predictor_precision = tp / (tp + fp)\n",
        "logistic_predictor_recall = tp / (tp + fn)\n",
        "logistic_predictor_far = fp / (fp + tn)\n",
        "\n",
        "print(fp, fn, logistic_predictor_precision , logistic_predictor_recall, logistic_predictor_far, tp, tn)"
      ]
    },
    {
      "cell_type": "code",
      "execution_count": null,
      "metadata": {
        "deletable": false,
        "editable": false,
        "id": "B4wYa_ULD7sK",
        "outputId": "4a0cd827-a41e-4ad7-a73e-5ff82448fbec"
      },
      "outputs": [
        {
          "data": {
            "text/html": [
              "\n",
              "    \n",
              "    \n",
              "        <p>All tests passed!</p>\n",
              "    \n",
              "    "
            ],
            "text/plain": [
              "\n",
              "    All tests passed!\n",
              "    "
            ]
          },
          "execution_count": 26,
          "metadata": {},
          "output_type": "execute_result"
        }
      ],
      "source": [
        "grader.check(\"q6d\")"
      ]
    },
    {
      "cell_type": "markdown",
      "metadata": {
        "deletable": false,
        "editable": false,
        "id": "2vme1JeSD7sK"
      },
      "source": [
        "<!-- BEGIN QUESTION -->\n",
        "\n",
        "### Question 6e\n",
        "\n",
        "Are there more false positives or false negatives when using the logistic regression classifier from Question 5?\n",
        "\n",
        "<!--\n",
        "BEGIN QUESTION\n",
        "name: q6e\n",
        "manual: True\n",
        "points: 1\n",
        "-->"
      ]
    },
    {
      "cell_type": "markdown",
      "metadata": {
        "id": "tFFv7FIjD7sK"
      },
      "source": [
        "The logistic regression classifier provides more false positives than the zero predictor, but also provides less false negatives."
      ]
    },
    {
      "cell_type": "markdown",
      "metadata": {
        "deletable": false,
        "editable": false,
        "id": "7zIwUTnRD7sK"
      },
      "source": [
        "<!-- END QUESTION -->\n",
        "\n",
        "<!-- BEGIN QUESTION -->\n",
        "\n",
        "### Question 6f\n",
        "\n",
        "1. Our logistic regression classifier got 75.6% prediction accuracy (number of correct predictions / total). How does this compare with predicting 0 for every email?\n",
        "1. Given the word features given above, name one reason this classifier is performing poorly. Hint: Think about how prevalent these words are in the email set.\n",
        "1. Which of these two classifiers would we prefer for a spam filter and why?\n",
        "\n",
        "<!--\n",
        "BEGIN QUESTION\n",
        "name: q6f\n",
        "manual: True\n",
        "points: 3\n",
        "-->"
      ]
    },
    {
      "cell_type": "markdown",
      "metadata": {
        "id": "_rN0ECVQD7sK"
      },
      "source": [
        "1. This is not too far from our zero predictor accuracy; it differs by around 1%.\n",
        "\n",
        "2. The given words are very specific and seem to adhere to a niche medical/professional related emails only. As a result, it creates a classifier that may not be strong in predicting whether general emails of any kind are spam or ham.\n",
        "\n",
        "3. I would honestly prefer the zero predictor over the logistic classifer. In the case of predicting spam emails, I would want to minimize the number of false positives, because this will falsely filter out emails that could be important, making my life harder. Although the zero_predictor allows all emails to pass through as ham, it has 0 false positives whereas the logistic regression classifier has 122, so I would still be receiving all my emails and I could then manually sort it. The accuracy between the two are not too far, suggesting that most emails are ham in the first place anyway."
      ]
    },
    {
      "cell_type": "markdown",
      "metadata": {
        "nbgrader": {
          "grade": false,
          "grade_id": "p2",
          "locked": true,
          "schema_version": 2,
          "solution": false
        },
        "id": "8qygQRSTD7sK"
      },
      "source": [
        "<!-- END QUESTION -->\n",
        "\n",
        "\n",
        "\n",
        "# Part II - Moving Forward\n",
        "\n",
        "With this in mind, it is now our task to make the spam filter more accurate.\n",
        "Some ideas for improving our model:\n",
        "\n",
        "1. Finding better features based on the email text. Some example features are:\n",
        "    1. Number of characters in the subject / body\n",
        "    1. Number of words in the subject / body\n",
        "    1. Use of punctuation (e.g., how many '!' were there?)\n",
        "    1. Number / percentage of capital letters\n",
        "    1. Whether the email is a reply to an earlier email or a forwarded email\n",
        "1. Finding better (and/or more) words to use as features. Which words are the best at distinguishing emails? This requires digging into the email text itself.\n",
        "1. Better data processing. For example, many emails contain HTML as well as text. We can consider extracting out the text from the HTML to help us find better words. Or, we can match HTML tags themselves, or even some combination of the two.\n",
        "1. Model selection. We can adjust parameters of our model (e.g. the regularization parameter) to achieve higher accuracy. Recall that we should use cross-validation to do feature and model selection properly! Otherwise, we will likely overfit to our training data.\n",
        "\n",
        "---"
      ]
    },
    {
      "cell_type": "markdown",
      "metadata": {
        "deletable": false,
        "editable": false,
        "nbgrader": {
          "grade": false,
          "grade_id": "q7",
          "locked": true,
          "schema_version": 2,
          "solution": false
        },
        "id": "dyY8R1Y-D7sK"
      },
      "source": [
        "<!-- BEGIN QUESTION -->\n",
        "\n",
        "### Question 7: Feature/Model Selection Process\n",
        "\n",
        "The process of improving our model:\n",
        "\n",
        "1. How did we find better features for our model?\n",
        "2. What did we try that worked / didn't work?\n",
        "3. What was surprising in our search for good features?\n",
        "\n",
        "<!--\n",
        "BEGIN QUESTION\n",
        "name: q7\n",
        "manual: True\n",
        "points: 6\n",
        "-->"
      ]
    },
    {
      "cell_type": "markdown",
      "metadata": {
        "id": "uGVfH1M0D7sK"
      },
      "source": [
        "1. I took the route of honing in on particular, niche words that constitute a spam email. Although it may seem counterintuitive, I began by finding commonly used words in everyday language and conversation, and then finding the highest repeating words in spam emails that are not part of this set.\n",
        "\n",
        "2. I tried to compare the frequencies and types of punctuation marks as well as small details in the subject line, but these methods proved to be less fruitful than I expected.\n",
        "\n",
        "3. I was really surprised in finding that once I threw punctuation out of the door when analyzing the email texts, it proved to help a great deal in terms of organization and effectiveness of my classification."
      ]
    },
    {
      "cell_type": "markdown",
      "metadata": {
        "nbgrader": {
          "grade": false,
          "grade_id": "q8",
          "locked": true,
          "schema_version": 2,
          "solution": false
        },
        "id": "9Xke2P9FD7sK"
      },
      "source": [
        "<!-- END QUESTION -->\n",
        "\n",
        "\n",
        "\n",
        "\n",
        "1. Consider the correlation between multiple features (look up correlation plots and `sns.heatmap`).\n",
        "1. Try to show redundancy in a group of features (e.g. `body` and `html` might co-occur relatively frequently, or we might be able to design a feature that captures all html tags and compare it to these).\n",
        "1. Visualize which words have high or low values for some useful statistic.\n",
        "1. Visually depict whether spam emails tend to be wordier (in some sense) than ham emails."
      ]
    },
    {
      "cell_type": "markdown",
      "metadata": {
        "deletable": false,
        "editable": false,
        "id": "ATaULKWcD7sK"
      },
      "source": [
        "<!-- BEGIN QUESTION -->\n",
        "\n",
        "We will generate our visualization in the cell below and provide our description in a comment.\n",
        "\n",
        "<!--\n",
        "BEGIN QUESTION\n",
        "name: q8\n",
        "manual: True\n",
        "format: image\n",
        "points: 6\n",
        "-->"
      ]
    },
    {
      "cell_type": "code",
      "execution_count": null,
      "metadata": {
        "id": "T8W-7tuxD7sK"
      },
      "outputs": [],
      "source": [
        "train\n",
        "import re"
      ]
    },
    {
      "cell_type": "code",
      "execution_count": null,
      "metadata": {
        "id": "cxjYSZHVD7sK"
      },
      "outputs": [],
      "source": [
        "wordy = ['a', 'an', 'the', 'how', 'i', 'but', 'be', 'can', 'cannot', \"can't\", 'we', 'you', 'us', 'your', 'me', 'my']\n",
        "wordy += ['have', 'had', 'which', 'who', 'why', 'with', 'ours', 'yours', 'our', 'he', 'her', 'she', 'him', 'do', \"don't\", 'to', 'what', 'were']\n",
        "wordy += ['if', 'is', 'it', 'from', 'had', 'their', 'them', 'where']\n",
        "#wordy"
      ]
    },
    {
      "cell_type": "code",
      "execution_count": null,
      "metadata": {
        "id": "K1oWyCsZD7sL"
      },
      "outputs": [],
      "source": [
        "classcon['no_pun'] = classcon['email'].str.replace(r'([^\\w\\s])', ' ')\n",
        "classcon['word_by_word'] = classcon['no_pun'].str.split()\n",
        "classcon['word_cont'] = classcon['word_by_word'].apply(lambda z: [i for i in z if i not in wordy])\n",
        "classcon['word_num'] = classcon['word_by_word'].str.len()\n",
        "#classcon\n",
        "spam_stuff = classcon.query(\"spam=='spam'\").word_cont.explode().value_counts()\n",
        "spords = spam_stuff[:400].index.to_list()\n",
        "#spords"
      ]
    },
    {
      "cell_type": "code",
      "execution_count": null,
      "metadata": {
        "id": "kye0LA-zD7sL",
        "outputId": "bda2bce2-a3a8-4edd-f81d-44d0db3100b0"
      },
      "outputs": [
        {
          "data": {
            "text/plain": [
              "array([[   0,    0,    0, ...,    0,  234, 1641],\n",
              "       [   0,    0,    0, ...,    0,  789, 4713],\n",
              "       [   0,    0,    0, ...,    0,  186, 1399],\n",
              "       ...,\n",
              "       [   0,    0,    0, ...,    0,  284, 1732],\n",
              "       [   0,    0,    0, ...,    0,  192, 1098],\n",
              "       [   0,    0,    0, ...,    0,  136,  812]])"
            ]
          },
          "execution_count": 30,
          "metadata": {},
          "output_type": "execute_result"
        }
      ],
      "source": [
        "X_train_cc = words_in_texts(spords, classcon['word_by_word'])\n",
        "X_train_cc = np.append(X_train_cc, classcon[['word_num']], axis=1)\n",
        "X_train_cc = np.append(X_train_cc, classcon[['charcount']], axis = 1)\n",
        "X_train_cc.astype(int)\n",
        "X_train_cc"
      ]
    },
    {
      "cell_type": "code",
      "execution_count": null,
      "metadata": {
        "id": "DmgbCuG4D7sL",
        "outputId": "624ef77e-83b4-4b1e-a292-ea4a66ce7f2a"
      },
      "outputs": [
        {
          "name": "stdout",
          "output_type": "stream",
          "text": [
            "Training Accuracy:  0.9744442965526421\n"
          ]
        }
      ],
      "source": [
        "logr = LogisticRegression(fit_intercept=True, solver = 'lbfgs', max_iter=1000)\n",
        "nmodel = logr.fit(X_train_cc, Y_train)\n",
        "\n",
        "\n",
        "training_accuracy = np.mean(nmodel.predict(X_train_cc) == Y_train)\n",
        "print(\"Training Accuracy: \", training_accuracy)"
      ]
    },
    {
      "cell_type": "code",
      "execution_count": null,
      "metadata": {
        "id": "PZe9SHifD7sL",
        "outputId": "736c00a9-31de-41c7-b2b0-73ac004eff22"
      },
      "outputs": [
        {
          "data": {
            "text/html": [
              "<div>\n",
              "<style scoped>\n",
              "    .dataframe tbody tr th:only-of-type {\n",
              "        vertical-align: middle;\n",
              "    }\n",
              "\n",
              "    .dataframe tbody tr th {\n",
              "        vertical-align: top;\n",
              "    }\n",
              "\n",
              "    .dataframe thead th {\n",
              "        text-align: right;\n",
              "    }\n",
              "</style>\n",
              "<table border=\"1\" class=\"dataframe\">\n",
              "  <thead>\n",
              "    <tr style=\"text-align: right;\">\n",
              "      <th></th>\n",
              "      <th>id</th>\n",
              "      <th>subject</th>\n",
              "      <th>email</th>\n",
              "      <th>spam</th>\n",
              "      <th>charcount</th>\n",
              "      <th>no_pun</th>\n",
              "      <th>word_by_word</th>\n",
              "      <th>word_cont</th>\n",
              "      <th>word_num</th>\n",
              "    </tr>\n",
              "  </thead>\n",
              "  <tbody>\n",
              "    <tr>\n",
              "      <th>0</th>\n",
              "      <td>7657</td>\n",
              "      <td>Subject: Patch to enable/disable log\\n</td>\n",
              "      <td>while i was playing with the past issues, it a...</td>\n",
              "      <td>ham</td>\n",
              "      <td>1641</td>\n",
              "      <td>while i was playing with the past issues  it a...</td>\n",
              "      <td>[while, i, was, playing, with, the, past, issu...</td>\n",
              "      <td>[while, was, playing, past, issues, annoyed, t...</td>\n",
              "      <td>234</td>\n",
              "    </tr>\n",
              "    <tr>\n",
              "      <th>1</th>\n",
              "      <td>6911</td>\n",
              "      <td>Subject: When an engineer flaps his wings\\n</td>\n",
              "      <td>url: http://diveintomark.org/archives/2002/10/...</td>\n",
              "      <td>ham</td>\n",
              "      <td>4713</td>\n",
              "      <td>url  http   diveintomark org archives 2002 10 ...</td>\n",
              "      <td>[url, http, diveintomark, org, archives, 2002,...</td>\n",
              "      <td>[url, http, diveintomark, org, archives, 2002,...</td>\n",
              "      <td>789</td>\n",
              "    </tr>\n",
              "    <tr>\n",
              "      <th>2</th>\n",
              "      <td>6074</td>\n",
              "      <td>Subject: Re: [Razor-users] razor plugins for m...</td>\n",
              "      <td>no, please post a link!\\n \\n fox\\n ----- origi...</td>\n",
              "      <td>ham</td>\n",
              "      <td>1399</td>\n",
              "      <td>no  please post a link \\n \\n fox\\n       origi...</td>\n",
              "      <td>[no, please, post, a, link, fox, original, mes...</td>\n",
              "      <td>[no, please, post, link, fox, original, messag...</td>\n",
              "      <td>186</td>\n",
              "    </tr>\n",
              "    <tr>\n",
              "      <th>3</th>\n",
              "      <td>4376</td>\n",
              "      <td>Subject: NYTimes.com Article: Stop Those Press...</td>\n",
              "      <td>this article from nytimes.com \\n has been sent...</td>\n",
              "      <td>ham</td>\n",
              "      <td>4435</td>\n",
              "      <td>this article from nytimes com \\n has been sent...</td>\n",
              "      <td>[this, article, from, nytimes, com, has, been,...</td>\n",
              "      <td>[this, article, nytimes, com, has, been, sent,...</td>\n",
              "      <td>719</td>\n",
              "    </tr>\n",
              "    <tr>\n",
              "      <th>4</th>\n",
              "      <td>5766</td>\n",
              "      <td>Subject: What's facing FBI's new CIO? (Tech Up...</td>\n",
              "      <td>&lt;html&gt;\\n &lt;head&gt;\\n &lt;title&gt;tech update today&lt;/ti...</td>\n",
              "      <td>ham</td>\n",
              "      <td>32857</td>\n",
              "      <td>html \\n  head \\n  title tech update today  ti...</td>\n",
              "      <td>[html, head, title, tech, update, today, title...</td>\n",
              "      <td>[html, head, title, tech, update, today, title...</td>\n",
              "      <td>5216</td>\n",
              "    </tr>\n",
              "    <tr>\n",
              "      <th>...</th>\n",
              "      <td>...</td>\n",
              "      <td>...</td>\n",
              "      <td>...</td>\n",
              "      <td>...</td>\n",
              "      <td>...</td>\n",
              "      <td>...</td>\n",
              "      <td>...</td>\n",
              "      <td>...</td>\n",
              "      <td>...</td>\n",
              "    </tr>\n",
              "    <tr>\n",
              "      <th>7508</th>\n",
              "      <td>5734</td>\n",
              "      <td>Subject: [Spambayes] understanding high false ...</td>\n",
              "      <td>&gt;&gt;&gt;&gt;&gt; \"tp\" == tim peters &lt;tim.one@comcast.net&gt;...</td>\n",
              "      <td>ham</td>\n",
              "      <td>465</td>\n",
              "      <td>tp     tim peters  tim one comcast net ...</td>\n",
              "      <td>[tp, tim, peters, tim, one, comcast, net, writ...</td>\n",
              "      <td>[tp, tim, peters, tim, one, comcast, net, writ...</td>\n",
              "      <td>61</td>\n",
              "    </tr>\n",
              "    <tr>\n",
              "      <th>7509</th>\n",
              "      <td>5191</td>\n",
              "      <td>Subject: Reach millions on the internet!!\\n</td>\n",
              "      <td>\\n dear consumers, increase your business sale...</td>\n",
              "      <td>spam</td>\n",
              "      <td>7054</td>\n",
              "      <td>\\n dear consumers  increase your business sale...</td>\n",
              "      <td>[dear, consumers, increase, your, business, sa...</td>\n",
              "      <td>[dear, consumers, increase, business, sales, b...</td>\n",
              "      <td>1011</td>\n",
              "    </tr>\n",
              "    <tr>\n",
              "      <th>7510</th>\n",
              "      <td>5390</td>\n",
              "      <td>Subject: Facts about sex.\\n</td>\n",
              "      <td>\\n forwarded-by: flower\\n \\n did you know that...</td>\n",
              "      <td>ham</td>\n",
              "      <td>1732</td>\n",
              "      <td>\\n forwarded by  flower\\n \\n did you know that...</td>\n",
              "      <td>[forwarded, by, flower, did, you, know, that, ...</td>\n",
              "      <td>[forwarded, by, flower, did, know, that, tell,...</td>\n",
              "      <td>284</td>\n",
              "    </tr>\n",
              "    <tr>\n",
              "      <th>7511</th>\n",
              "      <td>860</td>\n",
              "      <td>Subject: Re: Zoot apt/openssh &amp; new DVD playin...</td>\n",
              "      <td>on tue, oct 08, 2002 at 04:36:13pm +0200, matt...</td>\n",
              "      <td>ham</td>\n",
              "      <td>1098</td>\n",
              "      <td>on tue  oct 08  2002 at 04 36 13pm  0200  matt...</td>\n",
              "      <td>[on, tue, oct, 08, 2002, at, 04, 36, 13pm, 020...</td>\n",
              "      <td>[on, tue, oct, 08, 2002, at, 04, 36, 13pm, 020...</td>\n",
              "      <td>192</td>\n",
              "    </tr>\n",
              "    <tr>\n",
              "      <th>7512</th>\n",
              "      <td>7270</td>\n",
              "      <td>Subject: Re: Internet radio - example from a c...</td>\n",
              "      <td>chris haun wrote:\\n &gt; \\n &gt; we would need someo...</td>\n",
              "      <td>ham</td>\n",
              "      <td>812</td>\n",
              "      <td>chris haun wrote \\n   \\n   we would need someo...</td>\n",
              "      <td>[chris, haun, wrote, we, would, need, someone,...</td>\n",
              "      <td>[chris, haun, wrote, would, need, someone, sit...</td>\n",
              "      <td>136</td>\n",
              "    </tr>\n",
              "  </tbody>\n",
              "</table>\n",
              "<p>7513 rows × 9 columns</p>\n",
              "</div>"
            ],
            "text/plain": [
              "        id                                            subject  \\\n",
              "0     7657             Subject: Patch to enable/disable log\\n   \n",
              "1     6911        Subject: When an engineer flaps his wings\\n   \n",
              "2     6074  Subject: Re: [Razor-users] razor plugins for m...   \n",
              "3     4376  Subject: NYTimes.com Article: Stop Those Press...   \n",
              "4     5766  Subject: What's facing FBI's new CIO? (Tech Up...   \n",
              "...    ...                                                ...   \n",
              "7508  5734  Subject: [Spambayes] understanding high false ...   \n",
              "7509  5191        Subject: Reach millions on the internet!!\\n   \n",
              "7510  5390                        Subject: Facts about sex.\\n   \n",
              "7511   860  Subject: Re: Zoot apt/openssh & new DVD playin...   \n",
              "7512  7270  Subject: Re: Internet radio - example from a c...   \n",
              "\n",
              "                                                  email  spam  charcount  \\\n",
              "0     while i was playing with the past issues, it a...   ham       1641   \n",
              "1     url: http://diveintomark.org/archives/2002/10/...   ham       4713   \n",
              "2     no, please post a link!\\n \\n fox\\n ----- origi...   ham       1399   \n",
              "3     this article from nytimes.com \\n has been sent...   ham       4435   \n",
              "4     <html>\\n <head>\\n <title>tech update today</ti...   ham      32857   \n",
              "...                                                 ...   ...        ...   \n",
              "7508  >>>>> \"tp\" == tim peters <tim.one@comcast.net>...   ham        465   \n",
              "7509  \\n dear consumers, increase your business sale...  spam       7054   \n",
              "7510  \\n forwarded-by: flower\\n \\n did you know that...   ham       1732   \n",
              "7511  on tue, oct 08, 2002 at 04:36:13pm +0200, matt...   ham       1098   \n",
              "7512  chris haun wrote:\\n > \\n > we would need someo...   ham        812   \n",
              "\n",
              "                                                 no_pun  \\\n",
              "0     while i was playing with the past issues  it a...   \n",
              "1     url  http   diveintomark org archives 2002 10 ...   \n",
              "2     no  please post a link \\n \\n fox\\n       origi...   \n",
              "3     this article from nytimes com \\n has been sent...   \n",
              "4      html \\n  head \\n  title tech update today  ti...   \n",
              "...                                                 ...   \n",
              "7508         tp     tim peters  tim one comcast net ...   \n",
              "7509  \\n dear consumers  increase your business sale...   \n",
              "7510  \\n forwarded by  flower\\n \\n did you know that...   \n",
              "7511  on tue  oct 08  2002 at 04 36 13pm  0200  matt...   \n",
              "7512  chris haun wrote \\n   \\n   we would need someo...   \n",
              "\n",
              "                                           word_by_word  \\\n",
              "0     [while, i, was, playing, with, the, past, issu...   \n",
              "1     [url, http, diveintomark, org, archives, 2002,...   \n",
              "2     [no, please, post, a, link, fox, original, mes...   \n",
              "3     [this, article, from, nytimes, com, has, been,...   \n",
              "4     [html, head, title, tech, update, today, title...   \n",
              "...                                                 ...   \n",
              "7508  [tp, tim, peters, tim, one, comcast, net, writ...   \n",
              "7509  [dear, consumers, increase, your, business, sa...   \n",
              "7510  [forwarded, by, flower, did, you, know, that, ...   \n",
              "7511  [on, tue, oct, 08, 2002, at, 04, 36, 13pm, 020...   \n",
              "7512  [chris, haun, wrote, we, would, need, someone,...   \n",
              "\n",
              "                                              word_cont  word_num  \n",
              "0     [while, was, playing, past, issues, annoyed, t...       234  \n",
              "1     [url, http, diveintomark, org, archives, 2002,...       789  \n",
              "2     [no, please, post, link, fox, original, messag...       186  \n",
              "3     [this, article, nytimes, com, has, been, sent,...       719  \n",
              "4     [html, head, title, tech, update, today, title...      5216  \n",
              "...                                                 ...       ...  \n",
              "7508  [tp, tim, peters, tim, one, comcast, net, writ...        61  \n",
              "7509  [dear, consumers, increase, business, sales, b...      1011  \n",
              "7510  [forwarded, by, flower, did, know, that, tell,...       284  \n",
              "7511  [on, tue, oct, 08, 2002, at, 04, 36, 13pm, 020...       192  \n",
              "7512  [chris, haun, wrote, would, need, someone, sit...       136  \n",
              "\n",
              "[7513 rows x 9 columns]"
            ]
          },
          "execution_count": 32,
          "metadata": {},
          "output_type": "execute_result"
        }
      ],
      "source": [
        "classcon"
      ]
    },
    {
      "cell_type": "markdown",
      "source": [
        "\n",
        "In the 4 cells below, I used a pairplot to visualize the trends between the character count of the email body,\n",
        "the word count of the email body, and the 'atypical' word count of the email body as decided by my earlier code.\n",
        "I supplemented this by plotting the heatmaps for the respective correlations. In doing so, we can see that\n",
        "although there is generally a strong correlation between word count and atypical word count,\n",
        "there is less of a correlation between character count and the other two, and the effects are more exaggerated in spam emails.\n"
      ],
      "metadata": {
        "id": "LORehNc_MRk4"
      }
    },
    {
      "cell_type": "code",
      "execution_count": 1,
      "metadata": {
        "ExecuteTime": {
          "end_time": "2019-04-02T00:27:36.170465Z",
          "start_time": "2019-04-02T00:27:36.167776Z"
        },
        "nbgrader": {
          "grade": true,
          "grade_id": "q8-eda",
          "locked": false,
          "points": 3,
          "schema_version": 2,
          "solution": true
        },
        "tags": [
          "student",
          "written",
          "q_eda1"
        ],
        "colab": {
          "base_uri": "https://localhost:8080/",
          "height": 216
        },
        "id": "6ocDvNUnD7sL",
        "outputId": "574533c8-203b-4998-dd1e-a6186572ca0a"
      },
      "outputs": [
        {
          "output_type": "error",
          "ename": "NameError",
          "evalue": "name 'classcon' is not defined",
          "traceback": [
            "\u001b[0;31m---------------------------------------------------------------------------\u001b[0m",
            "\u001b[0;31mNameError\u001b[0m                                 Traceback (most recent call last)",
            "\u001b[0;32m<ipython-input-1-cc871466270c>\u001b[0m in \u001b[0;36m<cell line: 2>\u001b[0;34m()\u001b[0m\n\u001b[1;32m      1\u001b[0m \u001b[0;31m# code to generate our visualization here:\u001b[0m\u001b[0;34m\u001b[0m\u001b[0;34m\u001b[0m\u001b[0m\n\u001b[0;32m----> 2\u001b[0;31m \u001b[0mtab\u001b[0m \u001b[0;34m=\u001b[0m \u001b[0mclasscon\u001b[0m\u001b[0;34m\u001b[0m\u001b[0;34m\u001b[0m\u001b[0m\n\u001b[0m\u001b[1;32m      3\u001b[0m \u001b[0mtab\u001b[0m\u001b[0;34m[\u001b[0m\u001b[0;34m'atypical_word_count'\u001b[0m\u001b[0;34m]\u001b[0m \u001b[0;34m=\u001b[0m \u001b[0;34m[\u001b[0m\u001b[0mlen\u001b[0m\u001b[0;34m(\u001b[0m\u001b[0mtab\u001b[0m\u001b[0;34m[\u001b[0m\u001b[0;34m'word_cont'\u001b[0m\u001b[0;34m]\u001b[0m\u001b[0;34m[\u001b[0m\u001b[0mi\u001b[0m\u001b[0;34m]\u001b[0m\u001b[0;34m)\u001b[0m \u001b[0;32mfor\u001b[0m \u001b[0mi\u001b[0m \u001b[0;32min\u001b[0m \u001b[0mnp\u001b[0m\u001b[0;34m.\u001b[0m\u001b[0marange\u001b[0m\u001b[0;34m(\u001b[0m\u001b[0mlen\u001b[0m\u001b[0;34m(\u001b[0m\u001b[0mtab\u001b[0m\u001b[0;34m[\u001b[0m\u001b[0;34m'word_cont'\u001b[0m\u001b[0;34m]\u001b[0m\u001b[0;34m)\u001b[0m\u001b[0;34m)\u001b[0m\u001b[0;34m]\u001b[0m\u001b[0;34m\u001b[0m\u001b[0;34m\u001b[0m\u001b[0m\n\u001b[1;32m      4\u001b[0m \u001b[0;34m\u001b[0m\u001b[0m\n\u001b[1;32m      5\u001b[0m \u001b[0mspa\u001b[0m \u001b[0;34m=\u001b[0m \u001b[0mclasscon\u001b[0m\u001b[0;34m.\u001b[0m\u001b[0mquery\u001b[0m\u001b[0;34m(\u001b[0m\u001b[0;34m\"spam=='spam'\"\u001b[0m\u001b[0;34m)\u001b[0m\u001b[0;34m\u001b[0m\u001b[0;34m\u001b[0m\u001b[0m\n",
            "\u001b[0;31mNameError\u001b[0m: name 'classcon' is not defined"
          ]
        }
      ],
      "source": [
        "\n",
        "\n",
        "# code to generate our visualization here:\n",
        "tab = classcon\n",
        "tab['atypical_word_count'] = [len(tab['word_cont'][i]) for i in np.arange(len(tab['word_cont']))]\n",
        "\n",
        "spa = classcon.query(\"spam=='spam'\")\n",
        "s = spa.iloc[:, [4, 8, 9]].corr()\n",
        "ha = classcon.query(\"spam=='ham'\")\n",
        "h = ha.iloc[:, [4, 8, 9]].corr()\n",
        "sp = spa[['charcount', 'word_num', 'atypical_word_count']]\n",
        "han = ha[['charcount', 'word_num', 'atypical_word_count']]\n",
        "\n",
        "#spords[:10]\n",
        "sns.pairplot(sp)\n",
        "plt.title(\"Spam Emails\")\n",
        "\n",
        "#robust=True)\n",
        "#train=train.reset_index(drop=True) # We must do this in order to preserve the ordering of emails to labels for words_in_texts\n",
        "\n",
        "\n",
        "# hams = dataf.query('type==0')\n",
        "# spams = dataf.query('type==1')\n",
        "\n",
        "# dataf = dataf.melt('type')\n",
        "\n",
        "\n",
        "# dataf = dataf.groupby(['type', 'variable']).mean().reset_index()\n",
        "\n",
        "#sns.heatmap(dataf)\n",
        "\n",
        "# plt.figure(figsize=[7, 6])\n",
        "# plt.title('Frequency of Words in Ham/Spam Emails')\n",
        "#sns.barplot(data = dataf, x = 'variable', y = 'value', hue='type')\n",
        "# plt.ylim(0, 1)\n",
        "\n",
        "# plt.xlabel('Words')\n",
        "# plt.ylabel('Proportion of Emails')\n"
      ]
    },
    {
      "cell_type": "code",
      "execution_count": null,
      "metadata": {
        "id": "20Pdd2UED7sL",
        "outputId": "1d54a440-e007-4096-d354-d62290562818"
      },
      "outputs": [
        {
          "data": {
            "text/plain": [
              "Text(0.5, 1, 'Spam Emails')"
            ]
          },
          "execution_count": 53,
          "metadata": {},
          "output_type": "execute_result"
        },
        {
          "data": {
            "image/png": "[encoded data removed]",
            "text/plain": [
              "<Figure size 540x540 with 12 Axes>"
            ]
          },
          "metadata": {
            "needs_background": "light"
          },
          "output_type": "display_data"
        }
      ],
      "source": [
        "sns.pairplot(han)\n",
        "plt.title(\"Spam Emails\")"
      ]
    },
    {
      "cell_type": "code",
      "execution_count": null,
      "metadata": {
        "id": "s12PbNXqD7sL",
        "outputId": "6b117d25-57fa-4a4d-ec1e-e59d486cc602"
      },
      "outputs": [
        {
          "data": {
            "text/plain": [
              "Text(0.5, 1, 'Ham Emails')"
            ]
          },
          "execution_count": 49,
          "metadata": {},
          "output_type": "execute_result"
        },
        {
          "data": {
            "image/png": "[encoded data removed]",
            "text/plain": [
              "<Figure size 432x288 with 2 Axes>"
            ]
          },
          "metadata": {
            "needs_background": "light"
          },
          "output_type": "display_data"
        }
      ],
      "source": [
        "sns.heatmap(h, vmin=-1, vmax=1, center=0, linewidths = 2, linecolor = 'white', annot = True, square=True)\n",
        "plt.title('Ham Emails')"
      ]
    },
    {
      "cell_type": "code",
      "execution_count": null,
      "metadata": {
        "id": "xSGzfeZTD7sL",
        "outputId": "a5004466-a7ad-47b7-e9e8-4f52bfb2eccf"
      },
      "outputs": [
        {
          "data": {
            "text/plain": [
              "Text(0.5, 1, 'Spam Emails')"
            ]
          },
          "execution_count": 34,
          "metadata": {},
          "output_type": "execute_result"
        },
        {
          "data": {
            "image/png": "[encoded data removed]",
            "text/plain": [
              "<Figure size 432x288 with 2 Axes>"
            ]
          },
          "metadata": {
            "needs_background": "light"
          },
          "output_type": "display_data"
        }
      ],
      "source": [
        "sns.heatmap(s, vmin=-1, vmax=1, center=0, linewidths = 2, linecolor = 'white', annot = True, square=True)\n",
        "plt.title('Spam Emails')"
      ]
    },
    {
      "cell_type": "code",
      "execution_count": null,
      "metadata": {
        "id": "dfhXtXToD7sL"
      },
      "outputs": [],
      "source": []
    },
    {
      "cell_type": "markdown",
      "metadata": {
        "deletable": false,
        "editable": false,
        "nbgrader": {
          "grade": false,
          "grade_id": "q9",
          "locked": true,
          "schema_version": 2,
          "solution": false
        },
        "id": "Dqp_3iiUD7sL"
      },
      "source": [
        "<!-- END QUESTION -->\n",
        "\n",
        "<!-- BEGIN QUESTION -->\n",
        "\n",
        "### Question 9: ROC Curve\n",
        "\n",
        "In most cases we won't be able to get no false positives and no false negatives, so we have to compromise. For example, in the case of cancer screenings, false negatives are comparatively worse than false positives — a false negative means that a patient might not discover a disease until it's too late to treat, while a false positive means that a patient will probably have to take another screening.\n",
        "\n",
        "Logistic regression calculates the probability that an example belongs to a certain class. Then, to classify an example we say that an email is spam if our classifier gives it $\\ge 0.5$ probability of being spam. However, *we can adjust that cutoff*: we can say that an email is spam only if our classifier gives it $\\ge 0.7$ probability of being spam, for example. This is how we can trade off false positives and false negatives.\n",
        "\n",
        "The ROC curve shows this trade off for each possible cutoff probability. In the cell below, we plot a ROC curve for our final classifier on the training data.\n",
        "\n",
        "<!--\n",
        "BEGIN QUESTION\n",
        "name: q9\n",
        "manual: True\n",
        "points: 3\n",
        "-->"
      ]
    },
    {
      "cell_type": "code",
      "execution_count": null,
      "metadata": {
        "id": "krQG91LkD7sL",
        "outputId": "4afa57bf-47b0-4fda-b798-3ad2556af0dd"
      },
      "outputs": [
        {
          "data": {
            "text/plain": [
              "Text(0.5, 1.0, 'Prediction Model ROC Curve')"
            ]
          },
          "execution_count": 35,
          "metadata": {},
          "output_type": "execute_result"
        },
        {
          "data": {
            "image/png": "[encoded data removed]",
            "text/plain": [
              "<Figure size 432x288 with 1 Axes>"
            ]
          },
          "metadata": {
            "needs_background": "light"
          },
          "output_type": "display_data"
        }
      ],
      "source": [
        "from sklearn.metrics import roc_curve\n",
        "\n",
        "\n",
        "X_trainp = nmodel.predict_proba(X_train_cc)[:, 1]\n",
        "fpr, sensitivity, threshold = roc_curve(Y_train, X_trainp, pos_label=1)\n",
        "plt.plot(fpr, sensitivity)\n",
        "plt.xlabel('False Positive Rate (1-Specificity)')\n",
        "plt.ylabel('Sensitivity')\n",
        "plt.title('Prediction Model ROC Curve')"
      ]
    },
    {
      "cell_type": "markdown",
      "metadata": {
        "deletable": false,
        "editable": false,
        "nbgrader": {
          "grade": false,
          "grade_id": "q10",
          "locked": true,
          "schema_version": 2,
          "solution": false
        },
        "id": "99vAkQhrD7sM"
      },
      "source": [
        "<!-- END QUESTION -->\n",
        "\n",
        "# Question 10: Test Predictions\n",
        "\n",
        "The following code will write our predictions on the test dataset to a CSV file.\n",
        "\n",
        "<!--\n",
        "BEGIN QUESTION\n",
        "name: q10\n",
        "points: 3\n",
        "-->"
      ]
    },
    {
      "cell_type": "code",
      "execution_count": null,
      "metadata": {
        "id": "2hWj0SlUD7sM"
      },
      "outputs": [],
      "source": [
        "val = val.reset_index(drop=True)\n",
        "def dataman(df):\n",
        "    df['charcount'] = [len(i) for i in df['email']]\n",
        "    df['no_pun'] = df['email'].str.replace(r'([^\\w\\s])', ' ')\n",
        "    df['word_by_word'] = df['no_pun'].str.split()\n",
        "    df['word_cont'] = df['word_by_word'].apply(lambda z: [i for i in z if i not in wordy])\n",
        "    df['word_num'] = df['word_by_word'].str.len()\n",
        "\n",
        "dataman(val)\n",
        "\n",
        "Xval = words_in_texts(spords, val['word_by_word'])\n",
        "Xval = np.append(Xval, val[['word_num']], axis=1)\n",
        "Xval = np.append(Xval, val[['charcount']], axis = 1)\n",
        "Xval.astype(int)\n",
        "\n",
        "#Xval\n",
        "\n",
        "Yval = np.array(val['spam'])"
      ]
    },
    {
      "cell_type": "code",
      "execution_count": null,
      "metadata": {
        "id": "Kz7QhWswD7sM",
        "outputId": "e13b8c39-b43f-4b37-be09-e17cd88980a6"
      },
      "outputs": [
        {
          "name": "stdout",
          "output_type": "stream",
          "text": [
            "0.962874251497006\n"
          ]
        }
      ],
      "source": [
        "validation_acc = np.mean(Yval == nmodel.predict(Xval))\n",
        "print(validation_acc)"
      ]
    },
    {
      "cell_type": "code",
      "execution_count": null,
      "metadata": {
        "id": "wjMeMn_BD7sM"
      },
      "outputs": [],
      "source": [
        "test = test.fillna('')\n",
        "test = test.reset_index(drop=True)\n",
        "dataman(test)\n",
        "Xtest = words_in_texts(spords, test['word_by_word'])\n",
        "Xtest = np.append(Xtest, test[['word_num']], axis=1)\n",
        "Xtest = np.append(Xtest, test[['charcount']], axis = 1)\n",
        "Xtest.astype(int)\n",
        "pred = nmodel.predict(Xtest)"
      ]
    },
    {
      "cell_type": "code",
      "execution_count": null,
      "metadata": {
        "ExecuteTime": {
          "end_time": "2019-04-02T00:27:38.650695Z",
          "start_time": "2019-04-02T00:27:38.469233Z"
        },
        "nbgrader": {
          "grade": false,
          "grade_id": "q10-answer",
          "locked": false,
          "schema_version": 2,
          "solution": true
        },
        "id": "oCwRctxhD7sM",
        "outputId": "be138904-9294-456d-8578-a4a2240c84f4"
      },
      "outputs": [
        {
          "data": {
            "text/plain": [
              "array([0, 1, 1, 0, 0, 0, 1, 0, 0, 0, 1, 0, 0, 0, 0, 0, 1, 0, 0, 0, 0, 1,\n",
              "       0, 0, 0, 0, 0, 1, 1, 0, 0, 0, 0, 1, 0, 0, 0, 0, 0, 0, 0, 0, 0, 0,\n",
              "       0, 1, 0, 0, 1, 0, 0, 0, 0, 0, 0, 0, 0, 0, 1, 1, 1, 0, 0, 1, 0, 0,\n",
              "       0, 1, 1, 0, 0, 0, 0, 0, 0, 1, 0, 0, 0, 0, 0, 1, 0, 0, 0, 1, 1, 0,\n",
              "       0, 1, 0, 0, 0, 0, 1, 0, 0, 0, 0, 1, 0, 0, 0, 0, 0, 0, 0, 0, 0, 0,\n",
              "       0, 0, 0, 0, 0, 0, 1, 0, 1, 1, 0, 0, 0, 0, 0, 0, 0, 0, 0, 0, 0, 0,\n",
              "       0, 0, 0, 1, 0, 1, 0, 0, 1, 0, 0, 0, 0, 0, 0, 0, 0, 0, 0, 0, 0, 0,\n",
              "       1, 0, 0, 0, 0, 0, 1, 0, 1, 0, 0, 1, 0, 1, 0, 0, 0, 0, 0, 1, 0, 0,\n",
              "       0, 0, 0, 0, 1, 0, 0, 0, 1, 0, 1, 0, 0, 0, 1, 0, 0, 0, 1, 0, 0, 1,\n",
              "       0, 0, 0, 0, 1, 0, 0, 0, 0, 0, 0, 0, 0, 0, 0, 0, 1, 1, 1, 0, 1, 0,\n",
              "       0, 1, 0, 0, 1, 0, 0, 0, 0, 0, 0, 0, 0, 0, 0, 0, 0, 0, 1, 0, 0, 0,\n",
              "       1, 1, 0, 0, 0, 0, 0, 1, 0, 0, 0, 1, 0, 1, 0, 1, 0, 1, 1, 0, 1, 1,\n",
              "       0, 0, 0, 0, 0, 0, 0, 0, 0, 0, 0, 1, 0, 1, 0, 0, 0, 0, 0, 0, 0, 0,\n",
              "       0, 1, 0, 1, 0, 0, 0, 0, 1, 0, 0, 1, 0, 1, 1, 1, 0, 0, 0, 0, 0, 0,\n",
              "       1, 1, 0, 0, 0, 0, 1, 0, 0, 0, 0, 0, 0, 0, 1, 0, 0, 1, 0, 0, 1, 0,\n",
              "       0, 1, 0, 0, 1, 0, 0, 0, 0, 1, 0, 0, 1, 0, 1, 0, 1, 0, 0, 0, 1, 0,\n",
              "       0, 0, 0, 0, 0, 1, 1, 1, 1, 0, 0, 0, 1, 0, 0, 0, 0, 1, 0, 1, 0, 0,\n",
              "       0, 1, 0, 0, 1, 1, 1, 0, 0, 0, 1, 0, 0, 1, 1, 0, 0, 0, 1, 1, 0, 0,\n",
              "       1, 1, 0, 0, 0, 1, 1, 0, 0, 0, 0, 0, 1, 0, 0, 1, 0, 0, 0, 1, 0, 0,\n",
              "       1, 1, 0, 0, 0, 0, 0, 1, 0, 0, 0, 1, 0, 1, 1, 0, 0, 1, 1, 1, 0, 0,\n",
              "       1, 0, 1, 0, 1, 0, 0, 0, 0, 0, 0, 0, 1, 0, 0, 0, 0, 0, 1, 0, 0, 0,\n",
              "       0, 0, 1, 0, 0, 0, 0, 0, 1, 0, 0, 0, 0, 0, 0, 1, 0, 0, 0, 1, 1, 1,\n",
              "       1, 0, 0, 0, 0, 1, 0, 0, 0, 0, 1, 1, 0, 1, 0, 0, 0, 0, 0, 0, 1, 0,\n",
              "       0, 0, 0, 1, 0, 0, 0, 0, 1, 0, 0, 1, 1, 0, 1, 1, 0, 0, 0, 0, 0, 0,\n",
              "       1, 1, 0, 1, 1, 0, 0, 0, 1, 0, 0, 0, 0, 0, 0, 1, 0, 0, 0, 0, 0, 0,\n",
              "       0, 0, 0, 0, 0, 1, 1, 0, 1, 1, 0, 0, 0, 0, 0, 0, 1, 1, 0, 0, 0, 0,\n",
              "       0, 0, 0, 1, 0, 0, 0, 1, 0, 0, 0, 0, 0, 0, 0, 0, 0, 0, 0, 1, 0, 0,\n",
              "       0, 0, 1, 0, 0, 0, 0, 1, 0, 0, 0, 0, 0, 0, 0, 0, 0, 0, 0, 1, 1, 0,\n",
              "       0, 0, 1, 0, 0, 0, 1, 0, 0, 0, 0, 1, 0, 0, 0, 1, 1, 0, 0, 1, 0, 1,\n",
              "       0, 0, 0, 1, 1, 1, 0, 1, 0, 0, 0, 0, 0, 0, 0, 0, 0, 0, 0, 1, 0, 0,\n",
              "       0, 0, 0, 0, 0, 0, 0, 0, 0, 1, 0, 0, 0, 1, 0, 0, 1, 1, 0, 0, 0, 0,\n",
              "       0, 0, 1, 1, 1, 1, 0, 0, 0, 1, 0, 0, 0, 1, 0, 0, 0, 0, 0, 0, 0, 0,\n",
              "       1, 0, 0, 1, 0, 0, 0, 0, 0, 0, 0, 0, 0, 0, 1, 0, 0, 0, 0, 1, 1, 1,\n",
              "       0, 1, 1, 1, 0, 0, 0, 0, 0, 0, 1, 0, 0, 0, 0, 0, 1, 1, 0, 0, 0, 0,\n",
              "       0, 0, 0, 0, 0, 1, 0, 0, 0, 0, 0, 0, 0, 1, 0, 1, 0, 0, 0, 0, 0, 0,\n",
              "       0, 0, 0, 1, 1, 0, 0, 0, 0, 1, 1, 0, 0, 0, 0, 1, 1, 0, 0, 1, 0, 0,\n",
              "       0, 0, 1, 0, 0, 0, 1, 0, 0, 1, 0, 1, 0, 0, 1, 0, 0, 1, 0, 1, 0, 1,\n",
              "       0, 0, 1, 0, 0, 0, 0, 0, 0, 0, 0, 0, 0, 1, 0, 1, 0, 0, 1, 0, 0, 0,\n",
              "       1, 0, 0, 0, 0, 0, 0, 0, 0, 1, 0, 0, 0, 0, 0, 0, 1, 1, 0, 0, 0, 1,\n",
              "       0, 0, 0, 0, 0, 0, 0, 0, 0, 0, 0, 0, 0, 0, 1, 0, 0, 0, 1, 1, 0, 0,\n",
              "       1, 0, 1, 1, 0, 1, 0, 0, 0, 1, 0, 0, 1, 0, 0, 1, 0, 1, 0, 1, 0, 1,\n",
              "       0, 1, 0, 0, 0, 0, 0, 0, 0, 0, 0, 0, 0, 0, 0, 1, 1, 0, 0, 1, 0, 0,\n",
              "       0, 0, 0, 1, 0, 1, 1, 0, 1, 0, 0, 0, 1, 0, 0, 0, 0, 0, 1, 0, 0, 0,\n",
              "       0, 0, 0, 0, 1, 0, 0, 0, 0, 1, 0, 1, 1, 0, 0, 1, 0, 0, 0, 0, 1, 0,\n",
              "       0, 0, 0, 0, 1, 0, 0, 1, 0, 1, 1, 0, 0, 0, 0, 0, 0, 0, 0, 0, 0, 0,\n",
              "       1, 0, 0, 0, 0, 0, 0, 0, 0, 1])"
            ]
          },
          "execution_count": 39,
          "metadata": {},
          "output_type": "execute_result"
        }
      ],
      "source": [
        "test_predictions = pred\n",
        "test_predictions"
      ]
    },
    {
      "cell_type": "code",
      "execution_count": null,
      "metadata": {
        "deletable": false,
        "editable": false,
        "id": "1E0cG_fHD7sM",
        "outputId": "1301a6bd-5fa3-41ea-e686-b4654b7e1196"
      },
      "outputs": [
        {
          "data": {
            "text/html": [
              "\n",
              "    \n",
              "    \n",
              "        <p>All tests passed!</p>\n",
              "    \n",
              "    "
            ],
            "text/plain": [
              "\n",
              "    All tests passed!\n",
              "    "
            ]
          },
          "execution_count": 40,
          "metadata": {},
          "output_type": "execute_result"
        }
      ],
      "source": [
        "grader.check(\"q10\")"
      ]
    },
    {
      "cell_type": "code",
      "execution_count": null,
      "metadata": {
        "ExecuteTime": {
          "end_time": "2019-04-02T00:27:39.986326Z",
          "start_time": "2019-04-02T00:27:38.385Z"
        },
        "nbgrader": {
          "grade": false,
          "grade_id": "cell-8dd1bfadcbe08b00",
          "locked": true,
          "schema_version": 2,
          "solution": false
        },
        "id": "2xVx8hUpD7sM",
        "outputId": "8457d87b-83bf-4315-f09a-9977a04e11eb"
      },
      "outputs": [
        {
          "name": "stdout",
          "output_type": "stream",
          "text": [
            "Created a CSV file: submission_2020-08-05T22:41:36.csv.\n",
            "You may now upload this CSV file to Gradescope for scoring.\n"
          ]
        }
      ],
      "source": [
        "from datetime import datetime\n",
        "\n",
        "# Construct and save the submission:\n",
        "submission_df = pd.DataFrame({\n",
        "    \"Id\": test['id'],\n",
        "    \"Class\": test_predictions,\n",
        "}, columns=['Id', 'Class'])\n",
        "timestamp = datetime.isoformat(datetime.now()).split(\".\")[0]\n",
        "submission_df.to_csv(\"submission_{}.csv\".format(timestamp), index=False)\n",
        "\n",
        "print('Created a CSV file: {}.'.format(\"submission_{}.csv\".format(timestamp)))\n",
        "print('You may now upload this CSV file to Gradescope for scoring.')"
      ]
    },
    {
      "cell_type": "markdown",
      "metadata": {
        "deletable": false,
        "editable": false,
        "id": "xqy-S5J2D7sM"
      },
      "source": [
        "---\n"
      ]
    },
    {
      "cell_type": "code",
      "execution_count": null,
      "metadata": {
        "deletable": false,
        "editable": false,
        "id": "ErcosEE0D7sM",
        "outputId": "5a9ff9de-e15a-4696-eb89-870a43e9d6be"
      },
      "outputs": [
        {
          "data": {
            "text/html": [
              "<p><strong>q10:</strong></p>\n",
              "\n",
              "    \n",
              "    \n",
              "        <p>All tests passed!</p>\n",
              "    \n",
              "    \n",
              "\n",
              "<p><strong>q1a:</strong></p>\n",
              "\n",
              "    \n",
              "    \n",
              "        <p>All tests passed!</p>\n",
              "    \n",
              "    \n",
              "\n",
              "<p><strong>q1b:</strong></p>\n",
              "\n",
              "    \n",
              "    \n",
              "        <p>All tests passed!</p>\n",
              "    \n",
              "    \n",
              "\n",
              "<p><strong>q2:</strong></p>\n",
              "\n",
              "    \n",
              "    \n",
              "        <p>All tests passed!</p>\n",
              "    \n",
              "    \n",
              "\n",
              "<p><strong>q4:</strong></p>\n",
              "\n",
              "    \n",
              "    \n",
              "        <p>All tests passed!</p>\n",
              "    \n",
              "    \n",
              "\n",
              "<p><strong>q5:</strong></p>\n",
              "\n",
              "    \n",
              "    \n",
              "        <p>All tests passed!</p>\n",
              "    \n",
              "    \n",
              "\n",
              "<p><strong>q6a:</strong></p>\n",
              "\n",
              "    \n",
              "    \n",
              "        <p>All tests passed!</p>\n",
              "    \n",
              "    \n",
              "\n",
              "<p><strong>q6b:</strong></p>\n",
              "\n",
              "    \n",
              "    \n",
              "        <p>All tests passed!</p>\n",
              "    \n",
              "    \n",
              "\n",
              "<p><strong>q6d:</strong></p>\n",
              "\n",
              "    \n",
              "    \n",
              "        <p>All tests passed!</p>\n",
              "    \n",
              "    \n",
              "\n"
            ],
            "text/plain": [
              "q10:\n",
              "\n",
              "    All tests passed!\n",
              "    \n",
              "\n",
              "q1a:\n",
              "\n",
              "    All tests passed!\n",
              "    \n",
              "\n",
              "q1b:\n",
              "\n",
              "    All tests passed!\n",
              "    \n",
              "\n",
              "q2:\n",
              "\n",
              "    All tests passed!\n",
              "    \n",
              "\n",
              "q4:\n",
              "\n",
              "    All tests passed!\n",
              "    \n",
              "\n",
              "q5:\n",
              "\n",
              "    All tests passed!\n",
              "    \n",
              "\n",
              "q6a:\n",
              "\n",
              "    All tests passed!\n",
              "    \n",
              "\n",
              "q6b:\n",
              "\n",
              "    All tests passed!\n",
              "    \n",
              "\n",
              "q6d:\n",
              "\n",
              "    All tests passed!\n",
              "    \n"
            ]
          },
          "execution_count": 42,
          "metadata": {},
          "output_type": "execute_result"
        }
      ],
      "source": [
        "grader.check_all()"
      ]
    },
    {
      "cell_type": "markdown",
      "metadata": {
        "deletable": false,
        "editable": false,
        "id": "GHt-1cQHD7sM"
      },
      "source": [
        "## Submission\n"
      ]
    },
    {
      "cell_type": "code",
      "execution_count": null,
      "metadata": {
        "deletable": false,
        "editable": false,
        "id": "M6F-o-MUD7sM",
        "outputId": "0058fd04-0701-40e1-8d59-8839dd0eea78"
      },
      "outputs": [
        {
          "data": {
            "text/html": [
              "\n",
              "                <p>Your submission has been exported. Click <a href=\"proj2.zip\" target=\"_blank\">here</a> \n",
              "                to download the zip file.</p>\n",
              "                "
            ],
            "text/plain": [
              "<IPython.core.display.HTML object>"
            ]
          },
          "metadata": {},
          "output_type": "display_data"
        }
      ],
      "source": [
        "# Save your notebook first, then run this cell to export your submission.\n",
        "grader.export()"
      ]
    },
    {
      "cell_type": "markdown",
      "metadata": {
        "id": "9ip407B-D7sM"
      },
      "source": [
        "Thanks for following along my ham/spam classifier project!"
      ]
    },
    {
      "cell_type": "code",
      "source": [],
      "metadata": {
        "id": "9FJdpDtGNzCr"
      },
      "execution_count": null,
      "outputs": []
    }
  ],
  "metadata": {
    "kernelspec": {
      "display_name": "Python 3",
      "language": "python",
      "name": "python3"
    },
    "language_info": {
      "codemirror_mode": {
        "name": "ipython",
        "version": 3
      },
      "file_extension": ".py",
      "mimetype": "text/x-python",
      "name": "python",
      "nbconvert_exporter": "python",
      "pygments_lexer": "ipython3",
      "version": "3.7.6"
    },
    "colab": {
      "provenance": []
    }
  },
  "nbformat": 4,
  "nbformat_minor": 0
}